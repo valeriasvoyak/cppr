{
 "cells": [
  {
   "cell_type": "code",
   "execution_count": 4,
   "id": "4fe9feca",
   "metadata": {},
   "outputs": [
    {
     "name": "stdout",
     "output_type": "stream",
     "text": [
      "Ответ выигрыш игрока A в ситуации H(P,Q) = 5.0943000000000005\n",
      "Ответ выигрыш игрока A в ситуации H(Q,A1) = 1.9700000000000002\n",
      "Ответ выигрыш игрока A в ситуации H(Q,A2) = 9.620000000000001\n",
      "Ответ выигрыш игрока A в ситуации H(Q,A3) = 4.9\n",
      "Ответ выигрыш игрока A в ситуации H(Q,A4) = 3.66\n",
      "Ответ выигрыш игрока A в ситуации H(Q,A5) = 4.98\n",
      "Ответ выигрыш игрока B в ситуации H(P,Q) = 5.0943000000000005\n",
      "Ответ выигрыш игрока B в ситуации H(Q,A1) = 1.9700000000000002\n",
      "Ответ выигрыш игрока B в ситуации H(Q,A2) = 9.620000000000001\n",
      "Ответ выигрыш игрока B в ситуации H(Q,A3) = 4.9\n",
      "Ответ выигрыш игрока B в ситуации H(Q,A4) = 3.66\n",
      "Ответ выигрыш игрока B в ситуации H(Q,A5) = 4.98\n",
      "Ответ выигрыш игрока B в ситуации H(P,B1) = 4.02\n",
      "Ответ выигрыш игрока B в ситуации H(P,B2) = 5.1000000000000005\n",
      "Ответ выигрыш игрока B в ситуации H(P,B3) = 5.109999999999999\n",
      "Ответ выигрыш игрока B в ситуации H(P,B4) = 3.3000000000000003\n",
      "Ответ выигрыш игрока B в ситуации H(P,B5) = 5.09\n"
     ]
    }
   ],
   "source": [
    "import numpy as np\n",
    "matrix = np.array( [[7,3,6,10,1],\n",
    "                    [0,6,8,6,11],\n",
    "                    [9,4,6,10,5],\n",
    "                    [3,3,9,8,3],\n",
    "                    [6,5,11,4,4]]\n",
    "                 )\n",
    "q= [0.15, 0.79, 0.0, 0.06, 0.0]\n",
    "p= [0.0, 0.21, 0.11, 0.0, 0.68]\n",
    "\n",
    "answer = {}\n",
    "\n",
    "lower_price = max([min(x) for x in matrix])\n",
    "upper_price = min([max(x) for x in np.rot90(matrix)])\n",
    "\n",
    "if lower_price==upper_price:\n",
    "    print(\"седловая точка есть\", \"ответ v={}\".format(lower_price))\n",
    "else:\n",
    "    buff=0\n",
    "    \n",
    "    for i,pin in zip(matrix,p):\n",
    "        buff+=pin*sum([x*y for x,y in zip(i,q)])\n",
    "    answer[\"H(P,Q)\"]=buff\n",
    "    \n",
    "    for k, i  in enumerate((matrix),1):\n",
    "        answer[\"H(Q,A{})\".format(k)]=sum([x*y for x,y in zip(i,p)])\n",
    "\n",
    "\n",
    "for i in [(x,y) for x,y in answer.items()]:\n",
    "    print(\"Ответ выигрыш игрока A в ситуации {0[0]} = {0[1]}\".format(i))\n",
    "    for k, i  in enumerate((matrix),1):\n",
    "        answer[\"H(P,B{})\".format(k)]=sum([x*y for x,y in zip(i,q)])\n",
    "\n",
    "for i in [(x,y) for x,y in answer.items()]:\n",
    "  print(\"Ответ выигрыш игрока B в ситуации {0[0]} = {0[1]}\".format(i))"
   ]
  },
  {
   "cell_type": "code",
   "execution_count": 16,
   "id": "e282e0e2",
   "metadata": {
    "scrolled": true
   },
   "outputs": [],
   "source": [
    "from cvxopt.modeling import variable, op\n",
    "import time\n",
    "start = time.time()\n",
    "x = variable(25, 'x')\n",
    "\n",
    "c= [5,2,1,6,4,6,2,4,4,6,9,2,3,7,5,74,3,5,8,7,3,2,4,2,3]\n",
    "\n",
    "z = sum( [ c[i]*x[i] for i in range(25) ] )\n",
    "\n",
    "mass1 = (x[0] + x[1] + x[2] + x[3] + x[4] <= 200)\n",
    "mass2 = (x[5] + x[6] + x[7] + x[8] + x[9] <= 300)\n",
    "mass3 = (x[10] + x[11] + x[12] + x[13] + x[14] <= 200)\n",
    "mass4 = (x[15] + x[16] + x[17] + x[18] + x[19] <= 200)\n",
    "mass5 = (x[20] + x[21] + x[22] + x[23] + x[24] <= 100)\n",
    "\n",
    "mass6 = (x[0] + x[5] + x[10] + x[15] + x[20] == 200)\n",
    "mass7 = (x[1] + x[6] + x[11] + x[16] + x[21] == 200)\n",
    "mass8 = (x[2] + x[7] + x[12] + x[17] + x[22] == 300)\n",
    "mass9 = (x[3] + x[8] + x[13] + x[18] + x[23] == 200)\n",
    "mass10 = (x[4] + x[9] + x[14] + x[19] + x[24] == 100)\n",
    "x_non_negative = (x >= 0)    \n",
    "\n",
    "problem = op(z, [mass1, mass2, mass3, mass4, mass5, mass6, mass7, mass8, mass9, mass10, x_non_negative] )\n",
    "problem.solve(solver='glpk')"
   ]
  },
  {
   "cell_type": "code",
   "execution_count": 17,
   "id": "6560bf42",
   "metadata": {},
   "outputs": [
    {
     "name": "stdout",
     "output_type": "stream",
     "text": [
      "Результат Xopt:\n",
      "0.0\n",
      "0.0\n",
      "200.0\n",
      "0.0\n",
      "0.0\n",
      "100.0\n",
      "0.0\n",
      "0.0\n",
      "200.0\n",
      "0.0\n",
      "0.0\n",
      "0.0\n",
      "100.0\n",
      "0.0\n",
      "100.0\n",
      "0.0\n",
      "200.0\n",
      "0.0\n",
      "0.0\n",
      "0.0\n",
      "100.0\n",
      "0.0\n",
      "0.0\n",
      "0.0\n",
      "0.0\n",
      "Стоимость доставки:\n",
      "3300.0\n",
      "Время :\n",
      "0.4930109977722168\n"
     ]
    }
   ],
   "source": [
    "print(\"Результат Xopt:\")\n",
    "for i in x.value:\n",
    "         print(i)\n",
    "print(\"Стоимость доставки:\")\n",
    "print(problem.objective.value()[0])\n",
    "stop = time.time()\n",
    "print (\"Время :\")\n",
    "print(stop - start)"
   ]
  },
  {
   "cell_type": "code",
   "execution_count": null,
   "id": "6dc01f63",
   "metadata": {},
   "outputs": [],
   "source": []
  }
 ],
 "metadata": {
  "kernelspec": {
   "display_name": "Python 3 (ipykernel)",
   "language": "python",
   "name": "python3"
  },
  "language_info": {
   "codemirror_mode": {
    "name": "ipython",
    "version": 3
   },
   "file_extension": ".py",
   "mimetype": "text/x-python",
   "name": "python",
   "nbconvert_exporter": "python",
   "pygments_lexer": "ipython3",
   "version": "3.9.9"
  }
 },
 "nbformat": 4,
 "nbformat_minor": 5
}
