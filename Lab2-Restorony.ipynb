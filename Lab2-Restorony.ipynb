{
 "cells": [
  {
   "cell_type": "markdown",
   "metadata": {},
   "source": [
    "# ИМПОРТИРУЕМ НЕОБХОДИМЫЕ БИБЛИОТЕКИ"
   ]
  },
  {
   "cell_type": "code",
   "execution_count": 2,
   "metadata": {
    "_cell_guid": "b1076dfc-b9ad-4769-8c92-a6c4dae69d19",
    "_uuid": "8f2839f25d086af736a60e9eeb907d3b93b6e0e5",
    "execution": {
     "iopub.execute_input": "2022-12-09T13:13:45.405833Z",
     "iopub.status.busy": "2022-12-09T13:13:45.404928Z",
     "iopub.status.idle": "2022-12-09T13:13:45.413627Z",
     "shell.execute_reply": "2022-12-09T13:13:45.412533Z",
     "shell.execute_reply.started": "2022-12-09T13:13:45.405796Z"
    }
   },
   "outputs": [],
   "source": [
    "import numpy as np\n",
    "import pandas as pd \n",
    "import os\n",
    "for dirname, _, filenames in os.walk('/dannie'):\n",
    "    for filename in filenames:\n",
    "        print(os.path.join(dirname, filename))\n",
    "import matplotlib.pyplot as plt\n",
    "import seaborn as sns\n",
    "from surprise import Dataset\n",
    "from surprise import Reader\n",
    "from surprise import SVD, SlopeOne, CoClustering, KNNBasic, KNNWithMeans, KNNWithZScore\n",
    "from surprise.model_selection import cross_validate\n",
    "import difflib\n",
    "import random"
   ]
  },
  {
   "cell_type": "markdown",
   "metadata": {},
   "source": [
    "# Считываем нужные нам данные"
   ]
  },
  {
   "cell_type": "code",
   "execution_count": 6,
   "metadata": {
    "execution": {
     "iopub.execute_input": "2022-12-09T13:15:54.732742Z",
     "iopub.status.busy": "2022-12-09T13:15:54.732362Z",
     "iopub.status.idle": "2022-12-09T13:15:54.749230Z",
     "shell.execute_reply": "2022-12-09T13:15:54.748307Z",
     "shell.execute_reply.started": "2022-12-09T13:15:54.732712Z"
    }
   },
   "outputs": [],
   "source": [
    "fail_user = \"/kaggle/input/restoran/rating_final.csv\"\n",
    "file_geo = \"/kaggle/input/restoran/geoplaces2.csv\"\n",
    "data = pd.read_csv(fail_user)\n",
    "data_geo = pd.read_csv(file_geo)"
   ]
  },
  {
   "cell_type": "markdown",
   "metadata": {},
   "source": [
    "# Есть ли пропущенные значения в данных"
   ]
  },
  {
   "cell_type": "code",
   "execution_count": 9,
   "metadata": {
    "execution": {
     "iopub.execute_input": "2022-12-09T13:16:07.702572Z",
     "iopub.status.busy": "2022-12-09T13:16:07.701600Z",
     "iopub.status.idle": "2022-12-09T13:16:07.714701Z",
     "shell.execute_reply": "2022-12-09T13:16:07.713364Z",
     "shell.execute_reply.started": "2022-12-09T13:16:07.702524Z"
    }
   },
   "outputs": [
    {
     "data": {
      "text/plain": [
       "placeID           0\n",
       "latitude          0\n",
       "longitude         0\n",
       "the_geom_meter    0\n",
       "name              0\n",
       "address           0\n",
       "city              0\n",
       "state             0\n",
       "country           0\n",
       "fax               0\n",
       "zip               0\n",
       "alcohol           0\n",
       "smoking_area      0\n",
       "dress_code        0\n",
       "accessibility     0\n",
       "price             0\n",
       "url               0\n",
       "Rambience         0\n",
       "franchise         0\n",
       "area              0\n",
       "other_services    0\n",
       "dtype: int64"
      ]
     },
     "execution_count": 9,
     "metadata": {},
     "output_type": "execute_result"
    }
   ],
   "source": [
    "data_geo.isnull().sum()"
   ]
  },
  {
   "cell_type": "code",
   "execution_count": 10,
   "metadata": {
    "execution": {
     "iopub.execute_input": "2022-12-09T13:16:08.620978Z",
     "iopub.status.busy": "2022-12-09T13:16:08.620553Z",
     "iopub.status.idle": "2022-12-09T13:16:08.632032Z",
     "shell.execute_reply": "2022-12-09T13:16:08.630625Z",
     "shell.execute_reply.started": "2022-12-09T13:16:08.620946Z"
    }
   },
   "outputs": [
    {
     "data": {
      "text/plain": [
       "userID            0\n",
       "placeID           0\n",
       "name              0\n",
       "rating            0\n",
       "food_rating       0\n",
       "service_rating    0\n",
       "dtype: int64"
      ]
     },
     "execution_count": 10,
     "metadata": {},
     "output_type": "execute_result"
    }
   ],
   "source": [
    "data.isnull().sum()"
   ]
  },
  {
   "cell_type": "markdown",
   "metadata": {},
   "source": [
    "# Объединяем 2 таблицы"
   ]
  },
  {
   "cell_type": "code",
   "execution_count": 12,
   "metadata": {
    "execution": {
     "iopub.execute_input": "2022-12-09T13:16:24.030282Z",
     "iopub.status.busy": "2022-12-09T13:16:24.029899Z",
     "iopub.status.idle": "2022-12-09T13:16:24.050064Z",
     "shell.execute_reply": "2022-12-09T13:16:24.049033Z",
     "shell.execute_reply.started": "2022-12-09T13:16:24.030253Z"
    }
   },
   "outputs": [
    {
     "data": {
      "text/html": [
       "<div>\n",
       "<style scoped>\n",
       "    .dataframe tbody tr th:only-of-type {\n",
       "        vertical-align: middle;\n",
       "    }\n",
       "\n",
       "    .dataframe tbody tr th {\n",
       "        vertical-align: top;\n",
       "    }\n",
       "\n",
       "    .dataframe thead th {\n",
       "        text-align: right;\n",
       "    }\n",
       "</style>\n",
       "<table border=\"1\" class=\"dataframe\">\n",
       "  <thead>\n",
       "    <tr style=\"text-align: right;\">\n",
       "      <th></th>\n",
       "      <th>userID</th>\n",
       "      <th>placeID</th>\n",
       "      <th>name</th>\n",
       "      <th>rating</th>\n",
       "      <th>food_rating</th>\n",
       "      <th>service_rating</th>\n",
       "    </tr>\n",
       "  </thead>\n",
       "  <tbody>\n",
       "    <tr>\n",
       "      <th>0</th>\n",
       "      <td>U1077</td>\n",
       "      <td>135085</td>\n",
       "      <td>Tortas Locas Hipocampo</td>\n",
       "      <td>2</td>\n",
       "      <td>2</td>\n",
       "      <td>2</td>\n",
       "    </tr>\n",
       "    <tr>\n",
       "      <th>1</th>\n",
       "      <td>U1108</td>\n",
       "      <td>135085</td>\n",
       "      <td>Tortas Locas Hipocampo</td>\n",
       "      <td>1</td>\n",
       "      <td>2</td>\n",
       "      <td>1</td>\n",
       "    </tr>\n",
       "    <tr>\n",
       "      <th>2</th>\n",
       "      <td>U1081</td>\n",
       "      <td>135085</td>\n",
       "      <td>Tortas Locas Hipocampo</td>\n",
       "      <td>1</td>\n",
       "      <td>2</td>\n",
       "      <td>1</td>\n",
       "    </tr>\n",
       "    <tr>\n",
       "      <th>3</th>\n",
       "      <td>U1056</td>\n",
       "      <td>135085</td>\n",
       "      <td>Tortas Locas Hipocampo</td>\n",
       "      <td>2</td>\n",
       "      <td>2</td>\n",
       "      <td>2</td>\n",
       "    </tr>\n",
       "    <tr>\n",
       "      <th>4</th>\n",
       "      <td>U1134</td>\n",
       "      <td>135085</td>\n",
       "      <td>Tortas Locas Hipocampo</td>\n",
       "      <td>2</td>\n",
       "      <td>1</td>\n",
       "      <td>2</td>\n",
       "    </tr>\n",
       "  </tbody>\n",
       "</table>\n",
       "</div>"
      ],
      "text/plain": [
       "  userID  placeID                    name  rating  food_rating  service_rating\n",
       "0  U1077   135085  Tortas Locas Hipocampo       2            2               2\n",
       "1  U1108   135085  Tortas Locas Hipocampo       1            2               1\n",
       "2  U1081   135085  Tortas Locas Hipocampo       1            2               1\n",
       "3  U1056   135085  Tortas Locas Hipocampo       2            2               2\n",
       "4  U1134   135085  Tortas Locas Hipocampo       2            1               2"
      ]
     },
     "execution_count": 12,
     "metadata": {},
     "output_type": "execute_result"
    }
   ],
   "source": [
    "data = pd.merge(data, data_geo[['placeID', 'name']], on='placeID')\n",
    "data = data[['userID', 'placeID' ,'name', 'rating', 'food_rating', 'service_rating']]\n",
    "data.head()"
   ]
  },
  {
   "cell_type": "markdown",
   "metadata": {},
   "source": [
    "# Этап 1"
   ]
  },
  {
   "cell_type": "markdown",
   "metadata": {},
   "source": [
    "# Топ-10 самых посещаемых ресторанов"
   ]
  },
  {
   "cell_type": "code",
   "execution_count": 13,
   "metadata": {
    "execution": {
     "iopub.execute_input": "2022-12-09T13:16:26.787981Z",
     "iopub.status.busy": "2022-12-09T13:16:26.787627Z",
     "iopub.status.idle": "2022-12-09T13:16:26.804659Z",
     "shell.execute_reply": "2022-12-09T13:16:26.803652Z",
     "shell.execute_reply.started": "2022-12-09T13:16:26.787953Z"
    }
   },
   "outputs": [
    {
     "data": {
      "text/html": [
       "<div>\n",
       "<style scoped>\n",
       "    .dataframe tbody tr th:only-of-type {\n",
       "        vertical-align: middle;\n",
       "    }\n",
       "\n",
       "    .dataframe tbody tr th {\n",
       "        vertical-align: top;\n",
       "    }\n",
       "\n",
       "    .dataframe thead th {\n",
       "        text-align: right;\n",
       "    }\n",
       "</style>\n",
       "<table border=\"1\" class=\"dataframe\">\n",
       "  <thead>\n",
       "    <tr style=\"text-align: right;\">\n",
       "      <th></th>\n",
       "      <th>userID</th>\n",
       "      <th>name</th>\n",
       "      <th>rating</th>\n",
       "      <th>food_rating</th>\n",
       "      <th>service_rating</th>\n",
       "    </tr>\n",
       "    <tr>\n",
       "      <th>placeID</th>\n",
       "      <th></th>\n",
       "      <th></th>\n",
       "      <th></th>\n",
       "      <th></th>\n",
       "      <th></th>\n",
       "    </tr>\n",
       "  </thead>\n",
       "  <tbody>\n",
       "    <tr>\n",
       "      <th>135085</th>\n",
       "      <td>36</td>\n",
       "      <td>36</td>\n",
       "      <td>36</td>\n",
       "      <td>36</td>\n",
       "      <td>36</td>\n",
       "    </tr>\n",
       "    <tr>\n",
       "      <th>132825</th>\n",
       "      <td>32</td>\n",
       "      <td>32</td>\n",
       "      <td>32</td>\n",
       "      <td>32</td>\n",
       "      <td>32</td>\n",
       "    </tr>\n",
       "    <tr>\n",
       "      <th>135032</th>\n",
       "      <td>28</td>\n",
       "      <td>28</td>\n",
       "      <td>28</td>\n",
       "      <td>28</td>\n",
       "      <td>28</td>\n",
       "    </tr>\n",
       "    <tr>\n",
       "      <th>135052</th>\n",
       "      <td>25</td>\n",
       "      <td>25</td>\n",
       "      <td>25</td>\n",
       "      <td>25</td>\n",
       "      <td>25</td>\n",
       "    </tr>\n",
       "    <tr>\n",
       "      <th>132834</th>\n",
       "      <td>25</td>\n",
       "      <td>25</td>\n",
       "      <td>25</td>\n",
       "      <td>25</td>\n",
       "      <td>25</td>\n",
       "    </tr>\n",
       "    <tr>\n",
       "      <th>135038</th>\n",
       "      <td>24</td>\n",
       "      <td>24</td>\n",
       "      <td>24</td>\n",
       "      <td>24</td>\n",
       "      <td>24</td>\n",
       "    </tr>\n",
       "    <tr>\n",
       "      <th>135060</th>\n",
       "      <td>22</td>\n",
       "      <td>22</td>\n",
       "      <td>22</td>\n",
       "      <td>22</td>\n",
       "      <td>22</td>\n",
       "    </tr>\n",
       "    <tr>\n",
       "      <th>135062</th>\n",
       "      <td>21</td>\n",
       "      <td>21</td>\n",
       "      <td>21</td>\n",
       "      <td>21</td>\n",
       "      <td>21</td>\n",
       "    </tr>\n",
       "    <tr>\n",
       "      <th>135042</th>\n",
       "      <td>20</td>\n",
       "      <td>20</td>\n",
       "      <td>20</td>\n",
       "      <td>20</td>\n",
       "      <td>20</td>\n",
       "    </tr>\n",
       "    <tr>\n",
       "      <th>132862</th>\n",
       "      <td>18</td>\n",
       "      <td>18</td>\n",
       "      <td>18</td>\n",
       "      <td>18</td>\n",
       "      <td>18</td>\n",
       "    </tr>\n",
       "  </tbody>\n",
       "</table>\n",
       "</div>"
      ],
      "text/plain": [
       "         userID  name  rating  food_rating  service_rating\n",
       "placeID                                                   \n",
       "135085       36    36      36           36              36\n",
       "132825       32    32      32           32              32\n",
       "135032       28    28      28           28              28\n",
       "135052       25    25      25           25              25\n",
       "132834       25    25      25           25              25\n",
       "135038       24    24      24           24              24\n",
       "135060       22    22      22           22              22\n",
       "135062       21    21      21           21              21\n",
       "135042       20    20      20           20              20\n",
       "132862       18    18      18           18              18"
      ]
     },
     "execution_count": 13,
     "metadata": {},
     "output_type": "execute_result"
    }
   ],
   "source": [
    "placeID_group = data.groupby('placeID')\n",
    "placeID_grouped_data = placeID_group.count().sort_values(by='rating', ascending=False)\n",
    "placeID_grouped_data.iloc[ : 10]"
   ]
  },
  {
   "cell_type": "markdown",
   "metadata": {},
   "source": [
    "# 10 лучших ресторанов с самым высоким средним рейтингом food_rating."
   ]
  },
  {
   "cell_type": "code",
   "execution_count": 14,
   "metadata": {
    "execution": {
     "iopub.execute_input": "2022-12-09T13:16:29.060206Z",
     "iopub.status.busy": "2022-12-09T13:16:29.059812Z",
     "iopub.status.idle": "2022-12-09T13:16:29.079809Z",
     "shell.execute_reply": "2022-12-09T13:16:29.078669Z",
     "shell.execute_reply.started": "2022-12-09T13:16:29.060172Z"
    }
   },
   "outputs": [
    {
     "data": {
      "text/html": [
       "<div>\n",
       "<style scoped>\n",
       "    .dataframe tbody tr th:only-of-type {\n",
       "        vertical-align: middle;\n",
       "    }\n",
       "\n",
       "    .dataframe tbody tr th {\n",
       "        vertical-align: top;\n",
       "    }\n",
       "\n",
       "    .dataframe thead th {\n",
       "        text-align: right;\n",
       "    }\n",
       "</style>\n",
       "<table border=\"1\" class=\"dataframe\">\n",
       "  <thead>\n",
       "    <tr style=\"text-align: right;\">\n",
       "      <th></th>\n",
       "      <th>rating</th>\n",
       "      <th>food_rating</th>\n",
       "      <th>service_rating</th>\n",
       "    </tr>\n",
       "    <tr>\n",
       "      <th>placeID</th>\n",
       "      <th></th>\n",
       "      <th></th>\n",
       "      <th></th>\n",
       "    </tr>\n",
       "  </thead>\n",
       "  <tbody>\n",
       "    <tr>\n",
       "      <th>132667</th>\n",
       "      <td>1.250000</td>\n",
       "      <td>2.000000</td>\n",
       "      <td>1.250000</td>\n",
       "    </tr>\n",
       "    <tr>\n",
       "      <th>134986</th>\n",
       "      <td>2.000000</td>\n",
       "      <td>2.000000</td>\n",
       "      <td>2.000000</td>\n",
       "    </tr>\n",
       "    <tr>\n",
       "      <th>135034</th>\n",
       "      <td>2.000000</td>\n",
       "      <td>2.000000</td>\n",
       "      <td>1.600000</td>\n",
       "    </tr>\n",
       "    <tr>\n",
       "      <th>132755</th>\n",
       "      <td>1.800000</td>\n",
       "      <td>2.000000</td>\n",
       "      <td>1.600000</td>\n",
       "    </tr>\n",
       "    <tr>\n",
       "      <th>135013</th>\n",
       "      <td>1.750000</td>\n",
       "      <td>2.000000</td>\n",
       "      <td>1.750000</td>\n",
       "    </tr>\n",
       "    <tr>\n",
       "      <th>132955</th>\n",
       "      <td>2.000000</td>\n",
       "      <td>1.800000</td>\n",
       "      <td>1.800000</td>\n",
       "    </tr>\n",
       "    <tr>\n",
       "      <th>134976</th>\n",
       "      <td>1.750000</td>\n",
       "      <td>1.750000</td>\n",
       "      <td>1.000000</td>\n",
       "    </tr>\n",
       "    <tr>\n",
       "      <th>135074</th>\n",
       "      <td>1.750000</td>\n",
       "      <td>1.750000</td>\n",
       "      <td>1.750000</td>\n",
       "    </tr>\n",
       "    <tr>\n",
       "      <th>135018</th>\n",
       "      <td>1.500000</td>\n",
       "      <td>1.750000</td>\n",
       "      <td>1.500000</td>\n",
       "    </tr>\n",
       "    <tr>\n",
       "      <th>135055</th>\n",
       "      <td>1.714286</td>\n",
       "      <td>1.714286</td>\n",
       "      <td>1.714286</td>\n",
       "    </tr>\n",
       "  </tbody>\n",
       "</table>\n",
       "</div>"
      ],
      "text/plain": [
       "           rating  food_rating  service_rating\n",
       "placeID                                       \n",
       "132667   1.250000     2.000000        1.250000\n",
       "134986   2.000000     2.000000        2.000000\n",
       "135034   2.000000     2.000000        1.600000\n",
       "132755   1.800000     2.000000        1.600000\n",
       "135013   1.750000     2.000000        1.750000\n",
       "132955   2.000000     1.800000        1.800000\n",
       "134976   1.750000     1.750000        1.000000\n",
       "135074   1.750000     1.750000        1.750000\n",
       "135018   1.500000     1.750000        1.500000\n",
       "135055   1.714286     1.714286        1.714286"
      ]
     },
     "execution_count": 14,
     "metadata": {},
     "output_type": "execute_result"
    }
   ],
   "source": [
    "placeID_food_rating_data = data.groupby('placeID').mean().sort_values(by='food_rating', ascending=False)\n",
    "placeID_food_rating_data.iloc[ : 10]"
   ]
  },
  {
   "cell_type": "code",
   "execution_count": 15,
   "metadata": {
    "execution": {
     "iopub.execute_input": "2022-12-09T13:16:29.781522Z",
     "iopub.status.busy": "2022-12-09T13:16:29.781160Z",
     "iopub.status.idle": "2022-12-09T13:16:30.141447Z",
     "shell.execute_reply": "2022-12-09T13:16:30.140339Z",
     "shell.execute_reply.started": "2022-12-09T13:16:29.781493Z"
    }
   },
   "outputs": [
    {
     "data": {
      "image/png": "[encoded data removed]",
      "text/plain": [
       "<Figure size 864x576 with 1 Axes>"
      ]
     },
     "metadata": {
      "needs_background": "light"
     },
     "output_type": "display_data"
    }
   ],
   "source": [
    "placeID_food_rating_data.iloc[ : 10].plot(kind='bar', figsize=(12,8))\n",
    "plt.xticks(rotation=-45)\n",
    "plt.show()"
   ]
  },
  {
   "cell_type": "code",
   "execution_count": 16,
   "metadata": {
    "execution": {
     "iopub.execute_input": "2022-12-09T13:16:30.241090Z",
     "iopub.status.busy": "2022-12-09T13:16:30.240733Z",
     "iopub.status.idle": "2022-12-09T13:16:30.248268Z",
     "shell.execute_reply": "2022-12-09T13:16:30.247069Z",
     "shell.execute_reply.started": "2022-12-09T13:16:30.241061Z"
    }
   },
   "outputs": [
    {
     "name": "stdout",
     "output_type": "stream",
     "text": [
      "Ресторан little pizza Emilio Portes Gil имеет средний рейтинг food_rating 2, что является максимальным, но у него низкие общие рейтинги и service_ratings.\n"
     ]
    }
   ],
   "source": [
    "print(\"Ресторан {} имеет средний рейтинг food_rating 2, что является максимальным, но у него низкие общие рейтинги и service_ratings.\".format(data[data['placeID'] == 132667]['name'].iloc[0] ))"
   ]
  },
  {
   "cell_type": "markdown",
   "metadata": {},
   "source": [
    "# Топ-10 ресторанов с самыми высокими средними общими рейтингами."
   ]
  },
  {
   "cell_type": "code",
   "execution_count": 17,
   "metadata": {
    "execution": {
     "iopub.execute_input": "2022-12-09T13:16:31.447726Z",
     "iopub.status.busy": "2022-12-09T13:16:31.447323Z",
     "iopub.status.idle": "2022-12-09T13:16:31.463112Z",
     "shell.execute_reply": "2022-12-09T13:16:31.462123Z",
     "shell.execute_reply.started": "2022-12-09T13:16:31.447686Z"
    }
   },
   "outputs": [
    {
     "data": {
      "text/html": [
       "<div>\n",
       "<style scoped>\n",
       "    .dataframe tbody tr th:only-of-type {\n",
       "        vertical-align: middle;\n",
       "    }\n",
       "\n",
       "    .dataframe tbody tr th {\n",
       "        vertical-align: top;\n",
       "    }\n",
       "\n",
       "    .dataframe thead th {\n",
       "        text-align: right;\n",
       "    }\n",
       "</style>\n",
       "<table border=\"1\" class=\"dataframe\">\n",
       "  <thead>\n",
       "    <tr style=\"text-align: right;\">\n",
       "      <th></th>\n",
       "      <th>userID</th>\n",
       "      <th>name</th>\n",
       "      <th>rating</th>\n",
       "      <th>food_rating</th>\n",
       "      <th>service_rating</th>\n",
       "    </tr>\n",
       "    <tr>\n",
       "      <th>placeID</th>\n",
       "      <th></th>\n",
       "      <th></th>\n",
       "      <th></th>\n",
       "      <th></th>\n",
       "      <th></th>\n",
       "    </tr>\n",
       "  </thead>\n",
       "  <tbody>\n",
       "    <tr>\n",
       "      <th>135085</th>\n",
       "      <td>36</td>\n",
       "      <td>36</td>\n",
       "      <td>36</td>\n",
       "      <td>36</td>\n",
       "      <td>36</td>\n",
       "    </tr>\n",
       "    <tr>\n",
       "      <th>132825</th>\n",
       "      <td>32</td>\n",
       "      <td>32</td>\n",
       "      <td>32</td>\n",
       "      <td>32</td>\n",
       "      <td>32</td>\n",
       "    </tr>\n",
       "    <tr>\n",
       "      <th>135032</th>\n",
       "      <td>28</td>\n",
       "      <td>28</td>\n",
       "      <td>28</td>\n",
       "      <td>28</td>\n",
       "      <td>28</td>\n",
       "    </tr>\n",
       "    <tr>\n",
       "      <th>135052</th>\n",
       "      <td>25</td>\n",
       "      <td>25</td>\n",
       "      <td>25</td>\n",
       "      <td>25</td>\n",
       "      <td>25</td>\n",
       "    </tr>\n",
       "    <tr>\n",
       "      <th>132834</th>\n",
       "      <td>25</td>\n",
       "      <td>25</td>\n",
       "      <td>25</td>\n",
       "      <td>25</td>\n",
       "      <td>25</td>\n",
       "    </tr>\n",
       "    <tr>\n",
       "      <th>135038</th>\n",
       "      <td>24</td>\n",
       "      <td>24</td>\n",
       "      <td>24</td>\n",
       "      <td>24</td>\n",
       "      <td>24</td>\n",
       "    </tr>\n",
       "    <tr>\n",
       "      <th>135060</th>\n",
       "      <td>22</td>\n",
       "      <td>22</td>\n",
       "      <td>22</td>\n",
       "      <td>22</td>\n",
       "      <td>22</td>\n",
       "    </tr>\n",
       "    <tr>\n",
       "      <th>135062</th>\n",
       "      <td>21</td>\n",
       "      <td>21</td>\n",
       "      <td>21</td>\n",
       "      <td>21</td>\n",
       "      <td>21</td>\n",
       "    </tr>\n",
       "    <tr>\n",
       "      <th>135042</th>\n",
       "      <td>20</td>\n",
       "      <td>20</td>\n",
       "      <td>20</td>\n",
       "      <td>20</td>\n",
       "      <td>20</td>\n",
       "    </tr>\n",
       "    <tr>\n",
       "      <th>132862</th>\n",
       "      <td>18</td>\n",
       "      <td>18</td>\n",
       "      <td>18</td>\n",
       "      <td>18</td>\n",
       "      <td>18</td>\n",
       "    </tr>\n",
       "  </tbody>\n",
       "</table>\n",
       "</div>"
      ],
      "text/plain": [
       "         userID  name  rating  food_rating  service_rating\n",
       "placeID                                                   \n",
       "135085       36    36      36           36              36\n",
       "132825       32    32      32           32              32\n",
       "135032       28    28      28           28              28\n",
       "135052       25    25      25           25              25\n",
       "132834       25    25      25           25              25\n",
       "135038       24    24      24           24              24\n",
       "135060       22    22      22           22              22\n",
       "135062       21    21      21           21              21\n",
       "135042       20    20      20           20              20\n",
       "132862       18    18      18           18              18"
      ]
     },
     "execution_count": 17,
     "metadata": {},
     "output_type": "execute_result"
    }
   ],
   "source": [
    "# группируем данные по placeID\n",
    "\n",
    "placeID_group = data.groupby('placeID')\n",
    "placeID_grouped_data = placeID_group.count().sort_values(by='rating', ascending=False)\n",
    "placeID_grouped_data.iloc[ : 10]"
   ]
  },
  {
   "cell_type": "code",
   "execution_count": 18,
   "metadata": {
    "execution": {
     "iopub.execute_input": "2022-12-09T13:16:32.160470Z",
     "iopub.status.busy": "2022-12-09T13:16:32.160052Z",
     "iopub.status.idle": "2022-12-09T13:16:32.406217Z",
     "shell.execute_reply": "2022-12-09T13:16:32.404918Z",
     "shell.execute_reply.started": "2022-12-09T13:16:32.160436Z"
    }
   },
   "outputs": [
    {
     "data": {
      "image/png": "[encoded data removed]",
      "text/plain": [
       "<Figure size 576x396 with 1 Axes>"
      ]
     },
     "metadata": {},
     "output_type": "display_data"
    }
   ],
   "source": [
    "plt.style.use('seaborn')\n",
    "placeID_grouped_data.iloc[ : 10]['rating'].plot(kind='bar')\n",
    "plt.xlabel(\"Идентификатор ресторана\")\n",
    "plt.ylabel(\"Частота\")\n",
    "plt.xticks(rotation=-45)\n",
    "plt.show()"
   ]
  },
  {
   "cell_type": "markdown",
   "metadata": {},
   "source": [
    "# Топ-10 ресторанов с самыми высокими средними общими рейтингами."
   ]
  },
  {
   "cell_type": "code",
   "execution_count": 19,
   "metadata": {
    "execution": {
     "iopub.execute_input": "2022-12-09T13:16:33.160967Z",
     "iopub.status.busy": "2022-12-09T13:16:33.160334Z",
     "iopub.status.idle": "2022-12-09T13:16:33.176961Z",
     "shell.execute_reply": "2022-12-09T13:16:33.176012Z",
     "shell.execute_reply.started": "2022-12-09T13:16:33.160931Z"
    }
   },
   "outputs": [
    {
     "data": {
      "text/html": [
       "<div>\n",
       "<style scoped>\n",
       "    .dataframe tbody tr th:only-of-type {\n",
       "        vertical-align: middle;\n",
       "    }\n",
       "\n",
       "    .dataframe tbody tr th {\n",
       "        vertical-align: top;\n",
       "    }\n",
       "\n",
       "    .dataframe thead th {\n",
       "        text-align: right;\n",
       "    }\n",
       "</style>\n",
       "<table border=\"1\" class=\"dataframe\">\n",
       "  <thead>\n",
       "    <tr style=\"text-align: right;\">\n",
       "      <th></th>\n",
       "      <th>rating</th>\n",
       "      <th>food_rating</th>\n",
       "      <th>service_rating</th>\n",
       "    </tr>\n",
       "    <tr>\n",
       "      <th>placeID</th>\n",
       "      <th></th>\n",
       "      <th></th>\n",
       "      <th></th>\n",
       "    </tr>\n",
       "  </thead>\n",
       "  <tbody>\n",
       "    <tr>\n",
       "      <th>132955</th>\n",
       "      <td>2.000000</td>\n",
       "      <td>1.800000</td>\n",
       "      <td>1.800000</td>\n",
       "    </tr>\n",
       "    <tr>\n",
       "      <th>135034</th>\n",
       "      <td>2.000000</td>\n",
       "      <td>2.000000</td>\n",
       "      <td>1.600000</td>\n",
       "    </tr>\n",
       "    <tr>\n",
       "      <th>134986</th>\n",
       "      <td>2.000000</td>\n",
       "      <td>2.000000</td>\n",
       "      <td>2.000000</td>\n",
       "    </tr>\n",
       "    <tr>\n",
       "      <th>132922</th>\n",
       "      <td>1.833333</td>\n",
       "      <td>1.500000</td>\n",
       "      <td>1.833333</td>\n",
       "    </tr>\n",
       "    <tr>\n",
       "      <th>132755</th>\n",
       "      <td>1.800000</td>\n",
       "      <td>2.000000</td>\n",
       "      <td>1.600000</td>\n",
       "    </tr>\n",
       "    <tr>\n",
       "      <th>135013</th>\n",
       "      <td>1.750000</td>\n",
       "      <td>2.000000</td>\n",
       "      <td>1.750000</td>\n",
       "    </tr>\n",
       "    <tr>\n",
       "      <th>134976</th>\n",
       "      <td>1.750000</td>\n",
       "      <td>1.750000</td>\n",
       "      <td>1.000000</td>\n",
       "    </tr>\n",
       "    <tr>\n",
       "      <th>135074</th>\n",
       "      <td>1.750000</td>\n",
       "      <td>1.750000</td>\n",
       "      <td>1.750000</td>\n",
       "    </tr>\n",
       "    <tr>\n",
       "      <th>135055</th>\n",
       "      <td>1.714286</td>\n",
       "      <td>1.714286</td>\n",
       "      <td>1.714286</td>\n",
       "    </tr>\n",
       "    <tr>\n",
       "      <th>135075</th>\n",
       "      <td>1.692308</td>\n",
       "      <td>1.692308</td>\n",
       "      <td>1.461538</td>\n",
       "    </tr>\n",
       "  </tbody>\n",
       "</table>\n",
       "</div>"
      ],
      "text/plain": [
       "           rating  food_rating  service_rating\n",
       "placeID                                       \n",
       "132955   2.000000     1.800000        1.800000\n",
       "135034   2.000000     2.000000        1.600000\n",
       "134986   2.000000     2.000000        2.000000\n",
       "132922   1.833333     1.500000        1.833333\n",
       "132755   1.800000     2.000000        1.600000\n",
       "135013   1.750000     2.000000        1.750000\n",
       "134976   1.750000     1.750000        1.000000\n",
       "135074   1.750000     1.750000        1.750000\n",
       "135055   1.714286     1.714286        1.714286\n",
       "135075   1.692308     1.692308        1.461538"
      ]
     },
     "execution_count": 19,
     "metadata": {},
     "output_type": "execute_result"
    }
   ],
   "source": [
    "placeID_ratings_data = data.groupby('placeID').mean().sort_values(by='rating', ascending=False)\n",
    "placeID_ratings_data.iloc[ : 10]"
   ]
  },
  {
   "cell_type": "code",
   "execution_count": 20,
   "metadata": {
    "execution": {
     "iopub.execute_input": "2022-12-09T13:16:33.842403Z",
     "iopub.status.busy": "2022-12-09T13:16:33.841769Z",
     "iopub.status.idle": "2022-12-09T13:16:34.155844Z",
     "shell.execute_reply": "2022-12-09T13:16:34.154782Z",
     "shell.execute_reply.started": "2022-12-09T13:16:33.842353Z"
    }
   },
   "outputs": [
    {
     "data": {
      "image/png": "[encoded data removed]",
      "text/plain": [
       "<Figure size 864x576 with 1 Axes>"
      ]
     },
     "metadata": {},
     "output_type": "display_data"
    }
   ],
   "source": [
    "plt.style.use('seaborn')\n",
    "placeID_ratings_data.iloc[ : 10].plot(kind='bar', figsize=(12,8))\n",
    "plt.xticks(rotation=-45)\n",
    "plt.grid()\n",
    "plt.show()"
   ]
  },
  {
   "cell_type": "code",
   "execution_count": 21,
   "metadata": {
    "execution": {
     "iopub.execute_input": "2022-12-09T13:16:34.309130Z",
     "iopub.status.busy": "2022-12-09T13:16:34.308441Z",
     "iopub.status.idle": "2022-12-09T13:16:34.315730Z",
     "shell.execute_reply": "2022-12-09T13:16:34.314792Z",
     "shell.execute_reply.started": "2022-12-09T13:16:34.309098Z"
    }
   },
   "outputs": [
    {
     "name": "stdout",
     "output_type": "stream",
     "text": [
      "Ресторан с самым высоким средним общим рейтингом, food_rating и service_rating: Restaurant Las Mananitas\n"
     ]
    }
   ],
   "source": [
    "print(\"Ресторан с самым высоким средним общим рейтингом, food_rating и service_rating: {}\".format(data[data['placeID'] == 134986]['name'].iloc[0]))"
   ]
  },
  {
   "cell_type": "markdown",
   "metadata": {},
   "source": [
    "# 10 ресторанов с самым высоким средним рейтингом food_rating."
   ]
  },
  {
   "cell_type": "code",
   "execution_count": 22,
   "metadata": {
    "execution": {
     "iopub.execute_input": "2022-12-09T13:16:38.501181Z",
     "iopub.status.busy": "2022-12-09T13:16:38.500804Z",
     "iopub.status.idle": "2022-12-09T13:16:38.516509Z",
     "shell.execute_reply": "2022-12-09T13:16:38.515578Z",
     "shell.execute_reply.started": "2022-12-09T13:16:38.501152Z"
    }
   },
   "outputs": [
    {
     "data": {
      "text/html": [
       "<div>\n",
       "<style scoped>\n",
       "    .dataframe tbody tr th:only-of-type {\n",
       "        vertical-align: middle;\n",
       "    }\n",
       "\n",
       "    .dataframe tbody tr th {\n",
       "        vertical-align: top;\n",
       "    }\n",
       "\n",
       "    .dataframe thead th {\n",
       "        text-align: right;\n",
       "    }\n",
       "</style>\n",
       "<table border=\"1\" class=\"dataframe\">\n",
       "  <thead>\n",
       "    <tr style=\"text-align: right;\">\n",
       "      <th></th>\n",
       "      <th>rating</th>\n",
       "      <th>food_rating</th>\n",
       "      <th>service_rating</th>\n",
       "    </tr>\n",
       "    <tr>\n",
       "      <th>placeID</th>\n",
       "      <th></th>\n",
       "      <th></th>\n",
       "      <th></th>\n",
       "    </tr>\n",
       "  </thead>\n",
       "  <tbody>\n",
       "    <tr>\n",
       "      <th>132667</th>\n",
       "      <td>1.250000</td>\n",
       "      <td>2.000000</td>\n",
       "      <td>1.250000</td>\n",
       "    </tr>\n",
       "    <tr>\n",
       "      <th>134986</th>\n",
       "      <td>2.000000</td>\n",
       "      <td>2.000000</td>\n",
       "      <td>2.000000</td>\n",
       "    </tr>\n",
       "    <tr>\n",
       "      <th>135034</th>\n",
       "      <td>2.000000</td>\n",
       "      <td>2.000000</td>\n",
       "      <td>1.600000</td>\n",
       "    </tr>\n",
       "    <tr>\n",
       "      <th>132755</th>\n",
       "      <td>1.800000</td>\n",
       "      <td>2.000000</td>\n",
       "      <td>1.600000</td>\n",
       "    </tr>\n",
       "    <tr>\n",
       "      <th>135013</th>\n",
       "      <td>1.750000</td>\n",
       "      <td>2.000000</td>\n",
       "      <td>1.750000</td>\n",
       "    </tr>\n",
       "    <tr>\n",
       "      <th>132955</th>\n",
       "      <td>2.000000</td>\n",
       "      <td>1.800000</td>\n",
       "      <td>1.800000</td>\n",
       "    </tr>\n",
       "    <tr>\n",
       "      <th>134976</th>\n",
       "      <td>1.750000</td>\n",
       "      <td>1.750000</td>\n",
       "      <td>1.000000</td>\n",
       "    </tr>\n",
       "    <tr>\n",
       "      <th>135074</th>\n",
       "      <td>1.750000</td>\n",
       "      <td>1.750000</td>\n",
       "      <td>1.750000</td>\n",
       "    </tr>\n",
       "    <tr>\n",
       "      <th>135018</th>\n",
       "      <td>1.500000</td>\n",
       "      <td>1.750000</td>\n",
       "      <td>1.500000</td>\n",
       "    </tr>\n",
       "    <tr>\n",
       "      <th>135055</th>\n",
       "      <td>1.714286</td>\n",
       "      <td>1.714286</td>\n",
       "      <td>1.714286</td>\n",
       "    </tr>\n",
       "  </tbody>\n",
       "</table>\n",
       "</div>"
      ],
      "text/plain": [
       "           rating  food_rating  service_rating\n",
       "placeID                                       \n",
       "132667   1.250000     2.000000        1.250000\n",
       "134986   2.000000     2.000000        2.000000\n",
       "135034   2.000000     2.000000        1.600000\n",
       "132755   1.800000     2.000000        1.600000\n",
       "135013   1.750000     2.000000        1.750000\n",
       "132955   2.000000     1.800000        1.800000\n",
       "134976   1.750000     1.750000        1.000000\n",
       "135074   1.750000     1.750000        1.750000\n",
       "135018   1.500000     1.750000        1.500000\n",
       "135055   1.714286     1.714286        1.714286"
      ]
     },
     "execution_count": 22,
     "metadata": {},
     "output_type": "execute_result"
    }
   ],
   "source": [
    "placeID_food_rating_data = data.groupby('placeID').mean().sort_values(by='food_rating', ascending=False)\n",
    "placeID_food_rating_data.iloc[ : 10]"
   ]
  },
  {
   "cell_type": "code",
   "execution_count": 23,
   "metadata": {
    "execution": {
     "iopub.execute_input": "2022-12-09T13:16:38.963622Z",
     "iopub.status.busy": "2022-12-09T13:16:38.962774Z",
     "iopub.status.idle": "2022-12-09T13:16:39.205580Z",
     "shell.execute_reply": "2022-12-09T13:16:39.204510Z",
     "shell.execute_reply.started": "2022-12-09T13:16:38.963545Z"
    }
   },
   "outputs": [
    {
     "data": {
      "image/png": "[encoded data removed]",
      "text/plain": [
       "<Figure size 576x396 with 1 Axes>"
      ]
     },
     "metadata": {},
     "output_type": "display_data"
    }
   ],
   "source": [
    "plt.style.use('seaborn')\n",
    "placeID_food_rating_data['food_rating'].iloc[ : 10].plot(kind='bar')\n",
    "plt.ylabel(\"Рейтинги еды\")\n",
    "plt.xticks(rotation=-45)\n",
    "plt.show()"
   ]
  },
  {
   "cell_type": "code",
   "execution_count": 24,
   "metadata": {
    "execution": {
     "iopub.execute_input": "2022-12-09T13:16:39.409990Z",
     "iopub.status.busy": "2022-12-09T13:16:39.409265Z",
     "iopub.status.idle": "2022-12-09T13:16:39.728083Z",
     "shell.execute_reply": "2022-12-09T13:16:39.727166Z",
     "shell.execute_reply.started": "2022-12-09T13:16:39.409941Z"
    }
   },
   "outputs": [
    {
     "data": {
      "image/png": "[encoded data removed]",
      "text/plain": [
       "<Figure size 864x576 with 1 Axes>"
      ]
     },
     "metadata": {},
     "output_type": "display_data"
    }
   ],
   "source": [
    "placeID_food_rating_data.iloc[ : 10].plot(kind='bar', figsize=(12,8))\n",
    "plt.xticks(rotation=-45)\n",
    "plt.show()"
   ]
  },
  {
   "cell_type": "markdown",
   "metadata": {},
   "source": [
    "# Топ-10 наименее посещаемых ресторанов (наименее встречающихся в данных)."
   ]
  },
  {
   "cell_type": "code",
   "execution_count": 25,
   "metadata": {
    "execution": {
     "iopub.execute_input": "2022-12-09T13:16:40.507916Z",
     "iopub.status.busy": "2022-12-09T13:16:40.507208Z",
     "iopub.status.idle": "2022-12-09T13:16:40.515685Z",
     "shell.execute_reply": "2022-12-09T13:16:40.514784Z",
     "shell.execute_reply.started": "2022-12-09T13:16:40.507870Z"
    }
   },
   "outputs": [],
   "source": [
    "placeID_rating_data = data.groupby('placeID').count().sort_values(by='rating')"
   ]
  },
  {
   "cell_type": "code",
   "execution_count": 26,
   "metadata": {
    "execution": {
     "iopub.execute_input": "2022-12-09T13:16:41.070275Z",
     "iopub.status.busy": "2022-12-09T13:16:41.069785Z",
     "iopub.status.idle": "2022-12-09T13:16:41.082836Z",
     "shell.execute_reply": "2022-12-09T13:16:41.081749Z",
     "shell.execute_reply.started": "2022-12-09T13:16:41.070230Z"
    }
   },
   "outputs": [
    {
     "data": {
      "text/html": [
       "<div>\n",
       "<style scoped>\n",
       "    .dataframe tbody tr th:only-of-type {\n",
       "        vertical-align: middle;\n",
       "    }\n",
       "\n",
       "    .dataframe tbody tr th {\n",
       "        vertical-align: top;\n",
       "    }\n",
       "\n",
       "    .dataframe thead th {\n",
       "        text-align: right;\n",
       "    }\n",
       "</style>\n",
       "<table border=\"1\" class=\"dataframe\">\n",
       "  <thead>\n",
       "    <tr style=\"text-align: right;\">\n",
       "      <th></th>\n",
       "      <th>userID</th>\n",
       "      <th>name</th>\n",
       "      <th>rating</th>\n",
       "      <th>food_rating</th>\n",
       "      <th>service_rating</th>\n",
       "    </tr>\n",
       "    <tr>\n",
       "      <th>placeID</th>\n",
       "      <th></th>\n",
       "      <th></th>\n",
       "      <th></th>\n",
       "      <th></th>\n",
       "      <th></th>\n",
       "    </tr>\n",
       "  </thead>\n",
       "  <tbody>\n",
       "    <tr>\n",
       "      <th>135011</th>\n",
       "      <td>3</td>\n",
       "      <td>3</td>\n",
       "      <td>3</td>\n",
       "      <td>3</td>\n",
       "      <td>3</td>\n",
       "    </tr>\n",
       "    <tr>\n",
       "      <th>132668</th>\n",
       "      <td>3</td>\n",
       "      <td>3</td>\n",
       "      <td>3</td>\n",
       "      <td>3</td>\n",
       "      <td>3</td>\n",
       "    </tr>\n",
       "    <tr>\n",
       "      <th>134975</th>\n",
       "      <td>3</td>\n",
       "      <td>3</td>\n",
       "      <td>3</td>\n",
       "      <td>3</td>\n",
       "      <td>3</td>\n",
       "    </tr>\n",
       "    <tr>\n",
       "      <th>132766</th>\n",
       "      <td>3</td>\n",
       "      <td>3</td>\n",
       "      <td>3</td>\n",
       "      <td>3</td>\n",
       "      <td>3</td>\n",
       "    </tr>\n",
       "    <tr>\n",
       "      <th>135016</th>\n",
       "      <td>3</td>\n",
       "      <td>3</td>\n",
       "      <td>3</td>\n",
       "      <td>3</td>\n",
       "      <td>3</td>\n",
       "    </tr>\n",
       "    <tr>\n",
       "      <th>132717</th>\n",
       "      <td>3</td>\n",
       "      <td>3</td>\n",
       "      <td>3</td>\n",
       "      <td>3</td>\n",
       "      <td>3</td>\n",
       "    </tr>\n",
       "    <tr>\n",
       "      <th>135033</th>\n",
       "      <td>4</td>\n",
       "      <td>4</td>\n",
       "      <td>4</td>\n",
       "      <td>4</td>\n",
       "      <td>4</td>\n",
       "    </tr>\n",
       "    <tr>\n",
       "      <th>135018</th>\n",
       "      <td>4</td>\n",
       "      <td>4</td>\n",
       "      <td>4</td>\n",
       "      <td>4</td>\n",
       "      <td>4</td>\n",
       "    </tr>\n",
       "    <tr>\n",
       "      <th>135040</th>\n",
       "      <td>4</td>\n",
       "      <td>4</td>\n",
       "      <td>4</td>\n",
       "      <td>4</td>\n",
       "      <td>4</td>\n",
       "    </tr>\n",
       "    <tr>\n",
       "      <th>135013</th>\n",
       "      <td>4</td>\n",
       "      <td>4</td>\n",
       "      <td>4</td>\n",
       "      <td>4</td>\n",
       "      <td>4</td>\n",
       "    </tr>\n",
       "  </tbody>\n",
       "</table>\n",
       "</div>"
      ],
      "text/plain": [
       "         userID  name  rating  food_rating  service_rating\n",
       "placeID                                                   \n",
       "135011        3     3       3            3               3\n",
       "132668        3     3       3            3               3\n",
       "134975        3     3       3            3               3\n",
       "132766        3     3       3            3               3\n",
       "135016        3     3       3            3               3\n",
       "132717        3     3       3            3               3\n",
       "135033        4     4       4            4               4\n",
       "135018        4     4       4            4               4\n",
       "135040        4     4       4            4               4\n",
       "135013        4     4       4            4               4"
      ]
     },
     "execution_count": 26,
     "metadata": {},
     "output_type": "execute_result"
    }
   ],
   "source": [
    "placeID_rating_data.iloc[ : 10]"
   ]
  },
  {
   "cell_type": "code",
   "execution_count": 27,
   "metadata": {
    "execution": {
     "iopub.execute_input": "2022-12-09T13:16:41.569190Z",
     "iopub.status.busy": "2022-12-09T13:16:41.568816Z",
     "iopub.status.idle": "2022-12-09T13:16:41.800529Z",
     "shell.execute_reply": "2022-12-09T13:16:41.799439Z",
     "shell.execute_reply.started": "2022-12-09T13:16:41.569161Z"
    }
   },
   "outputs": [
    {
     "data": {
      "image/png": "[encoded data removed]",
      "text/plain": [
       "<Figure size 576x396 with 1 Axes>"
      ]
     },
     "metadata": {},
     "output_type": "display_data"
    }
   ],
   "source": [
    "placeID_rating_data['rating'].iloc[ : 10].plot(kind='bar')\n",
    "plt.xticks(rotation=-45)\n",
    "plt.show()"
   ]
  },
  {
   "cell_type": "markdown",
   "metadata": {},
   "source": [
    "# 10 ресторанов с самым низким средним общим рейтингом."
   ]
  },
  {
   "cell_type": "code",
   "execution_count": 28,
   "metadata": {
    "execution": {
     "iopub.execute_input": "2022-12-09T13:16:42.620832Z",
     "iopub.status.busy": "2022-12-09T13:16:42.620413Z",
     "iopub.status.idle": "2022-12-09T13:16:42.638666Z",
     "shell.execute_reply": "2022-12-09T13:16:42.637529Z",
     "shell.execute_reply.started": "2022-12-09T13:16:42.620797Z"
    }
   },
   "outputs": [
    {
     "data": {
      "text/html": [
       "<div>\n",
       "<style scoped>\n",
       "    .dataframe tbody tr th:only-of-type {\n",
       "        vertical-align: middle;\n",
       "    }\n",
       "\n",
       "    .dataframe tbody tr th {\n",
       "        vertical-align: top;\n",
       "    }\n",
       "\n",
       "    .dataframe thead th {\n",
       "        text-align: right;\n",
       "    }\n",
       "</style>\n",
       "<table border=\"1\" class=\"dataframe\">\n",
       "  <thead>\n",
       "    <tr style=\"text-align: right;\">\n",
       "      <th></th>\n",
       "      <th>rating</th>\n",
       "      <th>food_rating</th>\n",
       "      <th>service_rating</th>\n",
       "    </tr>\n",
       "    <tr>\n",
       "      <th>placeID</th>\n",
       "      <th></th>\n",
       "      <th></th>\n",
       "      <th></th>\n",
       "    </tr>\n",
       "  </thead>\n",
       "  <tbody>\n",
       "    <tr>\n",
       "      <th>132654</th>\n",
       "      <td>0.250</td>\n",
       "      <td>0.250</td>\n",
       "      <td>0.250000</td>\n",
       "    </tr>\n",
       "    <tr>\n",
       "      <th>135040</th>\n",
       "      <td>0.250</td>\n",
       "      <td>0.250</td>\n",
       "      <td>0.250000</td>\n",
       "    </tr>\n",
       "    <tr>\n",
       "      <th>132560</th>\n",
       "      <td>0.500</td>\n",
       "      <td>1.000</td>\n",
       "      <td>0.250000</td>\n",
       "    </tr>\n",
       "    <tr>\n",
       "      <th>132663</th>\n",
       "      <td>0.500</td>\n",
       "      <td>0.500</td>\n",
       "      <td>0.666667</td>\n",
       "    </tr>\n",
       "    <tr>\n",
       "      <th>135069</th>\n",
       "      <td>0.500</td>\n",
       "      <td>0.500</td>\n",
       "      <td>0.750000</td>\n",
       "    </tr>\n",
       "    <tr>\n",
       "      <th>132594</th>\n",
       "      <td>0.600</td>\n",
       "      <td>1.200</td>\n",
       "      <td>0.600000</td>\n",
       "    </tr>\n",
       "    <tr>\n",
       "      <th>132609</th>\n",
       "      <td>0.600</td>\n",
       "      <td>0.600</td>\n",
       "      <td>0.600000</td>\n",
       "    </tr>\n",
       "    <tr>\n",
       "      <th>132885</th>\n",
       "      <td>0.600</td>\n",
       "      <td>0.600</td>\n",
       "      <td>0.400000</td>\n",
       "    </tr>\n",
       "    <tr>\n",
       "      <th>132870</th>\n",
       "      <td>0.600</td>\n",
       "      <td>1.000</td>\n",
       "      <td>0.400000</td>\n",
       "    </tr>\n",
       "    <tr>\n",
       "      <th>132732</th>\n",
       "      <td>0.625</td>\n",
       "      <td>0.875</td>\n",
       "      <td>1.000000</td>\n",
       "    </tr>\n",
       "  </tbody>\n",
       "</table>\n",
       "</div>"
      ],
      "text/plain": [
       "         rating  food_rating  service_rating\n",
       "placeID                                     \n",
       "132654    0.250        0.250        0.250000\n",
       "135040    0.250        0.250        0.250000\n",
       "132560    0.500        1.000        0.250000\n",
       "132663    0.500        0.500        0.666667\n",
       "135069    0.500        0.500        0.750000\n",
       "132594    0.600        1.200        0.600000\n",
       "132609    0.600        0.600        0.600000\n",
       "132885    0.600        0.600        0.400000\n",
       "132870    0.600        1.000        0.400000\n",
       "132732    0.625        0.875        1.000000"
      ]
     },
     "execution_count": 28,
     "metadata": {},
     "output_type": "execute_result"
    }
   ],
   "source": [
    "placeID_ratings_data = data.groupby('placeID').mean().sort_values(by='rating', ascending=True)\n",
    "placeID_ratings_data.iloc[ : 10]"
   ]
  },
  {
   "cell_type": "code",
   "execution_count": 29,
   "metadata": {
    "execution": {
     "iopub.execute_input": "2022-12-09T13:16:43.268476Z",
     "iopub.status.busy": "2022-12-09T13:16:43.268008Z",
     "iopub.status.idle": "2022-12-09T13:16:43.498110Z",
     "shell.execute_reply": "2022-12-09T13:16:43.496961Z",
     "shell.execute_reply.started": "2022-12-09T13:16:43.268437Z"
    }
   },
   "outputs": [
    {
     "data": {
      "image/png": "[encoded data removed]",
      "text/plain": [
       "<Figure size 576x396 with 1 Axes>"
      ]
     },
     "metadata": {},
     "output_type": "display_data"
    }
   ],
   "source": [
    "# Нарисуем приведенные выше данные\n",
    "\n",
    "placeID_ratings_data['rating'].iloc[ : 10].plot(kind='bar')\n",
    "plt.xticks(rotation=-45)\n",
    "plt.show()"
   ]
  },
  {
   "cell_type": "markdown",
   "metadata": {},
   "source": [
    "# 10 ресторанов с самым низким средним рейтингом food_rating"
   ]
  },
  {
   "cell_type": "code",
   "execution_count": 30,
   "metadata": {
    "execution": {
     "iopub.execute_input": "2022-12-09T13:16:44.581973Z",
     "iopub.status.busy": "2022-12-09T13:16:44.581528Z",
     "iopub.status.idle": "2022-12-09T13:16:44.599209Z",
     "shell.execute_reply": "2022-12-09T13:16:44.597975Z",
     "shell.execute_reply.started": "2022-12-09T13:16:44.581936Z"
    }
   },
   "outputs": [
    {
     "data": {
      "text/html": [
       "<div>\n",
       "<style scoped>\n",
       "    .dataframe tbody tr th:only-of-type {\n",
       "        vertical-align: middle;\n",
       "    }\n",
       "\n",
       "    .dataframe tbody tr th {\n",
       "        vertical-align: top;\n",
       "    }\n",
       "\n",
       "    .dataframe thead th {\n",
       "        text-align: right;\n",
       "    }\n",
       "</style>\n",
       "<table border=\"1\" class=\"dataframe\">\n",
       "  <thead>\n",
       "    <tr style=\"text-align: right;\">\n",
       "      <th></th>\n",
       "      <th>rating</th>\n",
       "      <th>food_rating</th>\n",
       "      <th>service_rating</th>\n",
       "    </tr>\n",
       "    <tr>\n",
       "      <th>placeID</th>\n",
       "      <th></th>\n",
       "      <th></th>\n",
       "      <th></th>\n",
       "    </tr>\n",
       "  </thead>\n",
       "  <tbody>\n",
       "    <tr>\n",
       "      <th>135040</th>\n",
       "      <td>0.25</td>\n",
       "      <td>0.25</td>\n",
       "      <td>0.250000</td>\n",
       "    </tr>\n",
       "    <tr>\n",
       "      <th>132654</th>\n",
       "      <td>0.25</td>\n",
       "      <td>0.25</td>\n",
       "      <td>0.250000</td>\n",
       "    </tr>\n",
       "    <tr>\n",
       "      <th>134987</th>\n",
       "      <td>1.00</td>\n",
       "      <td>0.50</td>\n",
       "      <td>1.000000</td>\n",
       "    </tr>\n",
       "    <tr>\n",
       "      <th>132663</th>\n",
       "      <td>0.50</td>\n",
       "      <td>0.50</td>\n",
       "      <td>0.666667</td>\n",
       "    </tr>\n",
       "    <tr>\n",
       "      <th>135069</th>\n",
       "      <td>0.50</td>\n",
       "      <td>0.50</td>\n",
       "      <td>0.750000</td>\n",
       "    </tr>\n",
       "    <tr>\n",
       "      <th>135086</th>\n",
       "      <td>0.80</td>\n",
       "      <td>0.60</td>\n",
       "      <td>0.800000</td>\n",
       "    </tr>\n",
       "    <tr>\n",
       "      <th>132845</th>\n",
       "      <td>0.80</td>\n",
       "      <td>0.60</td>\n",
       "      <td>0.800000</td>\n",
       "    </tr>\n",
       "    <tr>\n",
       "      <th>132609</th>\n",
       "      <td>0.60</td>\n",
       "      <td>0.60</td>\n",
       "      <td>0.600000</td>\n",
       "    </tr>\n",
       "    <tr>\n",
       "      <th>135049</th>\n",
       "      <td>1.00</td>\n",
       "      <td>0.60</td>\n",
       "      <td>1.000000</td>\n",
       "    </tr>\n",
       "    <tr>\n",
       "      <th>132885</th>\n",
       "      <td>0.60</td>\n",
       "      <td>0.60</td>\n",
       "      <td>0.400000</td>\n",
       "    </tr>\n",
       "  </tbody>\n",
       "</table>\n",
       "</div>"
      ],
      "text/plain": [
       "         rating  food_rating  service_rating\n",
       "placeID                                     \n",
       "135040     0.25         0.25        0.250000\n",
       "132654     0.25         0.25        0.250000\n",
       "134987     1.00         0.50        1.000000\n",
       "132663     0.50         0.50        0.666667\n",
       "135069     0.50         0.50        0.750000\n",
       "135086     0.80         0.60        0.800000\n",
       "132845     0.80         0.60        0.800000\n",
       "132609     0.60         0.60        0.600000\n",
       "135049     1.00         0.60        1.000000\n",
       "132885     0.60         0.60        0.400000"
      ]
     },
     "execution_count": 30,
     "metadata": {},
     "output_type": "execute_result"
    }
   ],
   "source": [
    "placeID_service_rating_data = data.groupby('placeID').mean().sort_values(by='food_rating', ascending=True)\n",
    "placeID_service_rating_data.iloc[ : 10]"
   ]
  },
  {
   "cell_type": "code",
   "execution_count": 31,
   "metadata": {
    "execution": {
     "iopub.execute_input": "2022-12-09T13:16:45.162715Z",
     "iopub.status.busy": "2022-12-09T13:16:45.162293Z",
     "iopub.status.idle": "2022-12-09T13:16:45.456718Z",
     "shell.execute_reply": "2022-12-09T13:16:45.455556Z",
     "shell.execute_reply.started": "2022-12-09T13:16:45.162682Z"
    }
   },
   "outputs": [
    {
     "data": {
      "image/png": "[encoded data removed]",
      "text/plain": [
       "<Figure size 864x576 with 1 Axes>"
      ]
     },
     "metadata": {},
     "output_type": "display_data"
    }
   ],
   "source": [
    "placeID_service_rating_data.iloc[ : 10].plot(kind='bar', figsize=(12, 8))\n",
    "plt.xticks(rotation=-45)\n",
    "plt.show()"
   ]
  },
  {
   "cell_type": "markdown",
   "metadata": {},
   "source": [
    "# 10 ресторанов с самым низким средним рейтингом service_rating."
   ]
  },
  {
   "cell_type": "code",
   "execution_count": 32,
   "metadata": {
    "execution": {
     "iopub.execute_input": "2022-12-09T13:16:46.231263Z",
     "iopub.status.busy": "2022-12-09T13:16:46.230573Z",
     "iopub.status.idle": "2022-12-09T13:16:46.250668Z",
     "shell.execute_reply": "2022-12-09T13:16:46.249735Z",
     "shell.execute_reply.started": "2022-12-09T13:16:46.231224Z"
    }
   },
   "outputs": [
    {
     "data": {
      "text/html": [
       "<div>\n",
       "<style scoped>\n",
       "    .dataframe tbody tr th:only-of-type {\n",
       "        vertical-align: middle;\n",
       "    }\n",
       "\n",
       "    .dataframe tbody tr th {\n",
       "        vertical-align: top;\n",
       "    }\n",
       "\n",
       "    .dataframe thead th {\n",
       "        text-align: right;\n",
       "    }\n",
       "</style>\n",
       "<table border=\"1\" class=\"dataframe\">\n",
       "  <thead>\n",
       "    <tr style=\"text-align: right;\">\n",
       "      <th></th>\n",
       "      <th>rating</th>\n",
       "      <th>food_rating</th>\n",
       "      <th>service_rating</th>\n",
       "    </tr>\n",
       "    <tr>\n",
       "      <th>placeID</th>\n",
       "      <th></th>\n",
       "      <th></th>\n",
       "      <th></th>\n",
       "    </tr>\n",
       "  </thead>\n",
       "  <tbody>\n",
       "    <tr>\n",
       "      <th>132560</th>\n",
       "      <td>0.50</td>\n",
       "      <td>1.00</td>\n",
       "      <td>0.250</td>\n",
       "    </tr>\n",
       "    <tr>\n",
       "      <th>132654</th>\n",
       "      <td>0.25</td>\n",
       "      <td>0.25</td>\n",
       "      <td>0.250</td>\n",
       "    </tr>\n",
       "    <tr>\n",
       "      <th>135040</th>\n",
       "      <td>0.25</td>\n",
       "      <td>0.25</td>\n",
       "      <td>0.250</td>\n",
       "    </tr>\n",
       "    <tr>\n",
       "      <th>132870</th>\n",
       "      <td>0.60</td>\n",
       "      <td>1.00</td>\n",
       "      <td>0.400</td>\n",
       "    </tr>\n",
       "    <tr>\n",
       "      <th>132885</th>\n",
       "      <td>0.60</td>\n",
       "      <td>0.60</td>\n",
       "      <td>0.400</td>\n",
       "    </tr>\n",
       "    <tr>\n",
       "      <th>132715</th>\n",
       "      <td>1.00</td>\n",
       "      <td>1.00</td>\n",
       "      <td>0.500</td>\n",
       "    </tr>\n",
       "    <tr>\n",
       "      <th>132594</th>\n",
       "      <td>0.60</td>\n",
       "      <td>1.20</td>\n",
       "      <td>0.600</td>\n",
       "    </tr>\n",
       "    <tr>\n",
       "      <th>132609</th>\n",
       "      <td>0.60</td>\n",
       "      <td>0.60</td>\n",
       "      <td>0.600</td>\n",
       "    </tr>\n",
       "    <tr>\n",
       "      <th>132858</th>\n",
       "      <td>0.80</td>\n",
       "      <td>1.40</td>\n",
       "      <td>0.600</td>\n",
       "    </tr>\n",
       "    <tr>\n",
       "      <th>132740</th>\n",
       "      <td>0.75</td>\n",
       "      <td>1.25</td>\n",
       "      <td>0.625</td>\n",
       "    </tr>\n",
       "  </tbody>\n",
       "</table>\n",
       "</div>"
      ],
      "text/plain": [
       "         rating  food_rating  service_rating\n",
       "placeID                                     \n",
       "132560     0.50         1.00           0.250\n",
       "132654     0.25         0.25           0.250\n",
       "135040     0.25         0.25           0.250\n",
       "132870     0.60         1.00           0.400\n",
       "132885     0.60         0.60           0.400\n",
       "132715     1.00         1.00           0.500\n",
       "132594     0.60         1.20           0.600\n",
       "132609     0.60         0.60           0.600\n",
       "132858     0.80         1.40           0.600\n",
       "132740     0.75         1.25           0.625"
      ]
     },
     "execution_count": 32,
     "metadata": {},
     "output_type": "execute_result"
    }
   ],
   "source": [
    "placeID_service_rating_data = data.groupby('placeID').mean().sort_values(by='service_rating', ascending=True)\n",
    "placeID_service_rating_data.iloc[ : 10]"
   ]
  },
  {
   "cell_type": "markdown",
   "metadata": {},
   "source": [
    "# Топ-10 ресторанов с самым низким средним рейтингом food_rating, service_rating"
   ]
  },
  {
   "cell_type": "code",
   "execution_count": 33,
   "metadata": {
    "execution": {
     "iopub.execute_input": "2022-12-09T13:16:47.566115Z",
     "iopub.status.busy": "2022-12-09T13:16:47.565502Z",
     "iopub.status.idle": "2022-12-09T13:16:47.811766Z",
     "shell.execute_reply": "2022-12-09T13:16:47.810661Z",
     "shell.execute_reply.started": "2022-12-09T13:16:47.566083Z"
    }
   },
   "outputs": [
    {
     "data": {
      "image/png": "[encoded data removed]",
      "text/plain": [
       "<Figure size 864x576 with 1 Axes>"
      ]
     },
     "metadata": {},
     "output_type": "display_data"
    }
   ],
   "source": [
    "placeID_service_rating_data.iloc[ : 10].plot(kind='bar', figsize=(12, 8))\n",
    "plt.xticks(rotation=-45)\n",
    "plt.show()"
   ]
  },
  {
   "cell_type": "code",
   "execution_count": 34,
   "metadata": {
    "execution": {
     "iopub.execute_input": "2022-12-09T13:16:48.882450Z",
     "iopub.status.busy": "2022-12-09T13:16:48.882038Z",
     "iopub.status.idle": "2022-12-09T13:16:49.092117Z",
     "shell.execute_reply": "2022-12-09T13:16:49.090911Z",
     "shell.execute_reply.started": "2022-12-09T13:16:48.882414Z"
    }
   },
   "outputs": [
    {
     "data": {
      "image/png": "[encoded data removed]",
      "text/plain": [
       "<Figure size 720x432 with 1 Axes>"
      ]
     },
     "metadata": {},
     "output_type": "display_data"
    }
   ],
   "source": [
    "data.groupby('userID').count().sort_values(by='rating', ascending=False).iloc[ : 10]['rating'].plot(kind='bar', figsize=(10,6))\n",
    "plt.xlabel(\"Пользователь ID\")\n",
    "plt.ylabel(\"Частота оценок\")\n",
    "plt.xticks(rotation=-45)\n",
    "plt.yticks(np.arange(0,19,1))\n",
    "plt.show()"
   ]
  },
  {
   "cell_type": "code",
   "execution_count": 35,
   "metadata": {
    "execution": {
     "iopub.execute_input": "2022-12-09T13:16:51.441430Z",
     "iopub.status.busy": "2022-12-09T13:16:51.441023Z",
     "iopub.status.idle": "2022-12-09T13:16:51.466546Z",
     "shell.execute_reply": "2022-12-09T13:16:51.465675Z",
     "shell.execute_reply.started": "2022-12-09T13:16:51.441397Z"
    }
   },
   "outputs": [
    {
     "data": {
      "text/html": [
       "<div>\n",
       "<style scoped>\n",
       "    .dataframe tbody tr th:only-of-type {\n",
       "        vertical-align: middle;\n",
       "    }\n",
       "\n",
       "    .dataframe tbody tr th {\n",
       "        vertical-align: top;\n",
       "    }\n",
       "\n",
       "    .dataframe thead th {\n",
       "        text-align: right;\n",
       "    }\n",
       "</style>\n",
       "<table border=\"1\" class=\"dataframe\">\n",
       "  <thead>\n",
       "    <tr style=\"text-align: right;\">\n",
       "      <th></th>\n",
       "      <th>rating</th>\n",
       "      <th>food_rating</th>\n",
       "      <th>service_rating</th>\n",
       "    </tr>\n",
       "  </thead>\n",
       "  <tbody>\n",
       "    <tr>\n",
       "      <th>count</th>\n",
       "      <td>1161.000000</td>\n",
       "      <td>1161.000000</td>\n",
       "      <td>1161.000000</td>\n",
       "    </tr>\n",
       "    <tr>\n",
       "      <th>mean</th>\n",
       "      <td>1.199828</td>\n",
       "      <td>1.215332</td>\n",
       "      <td>1.090439</td>\n",
       "    </tr>\n",
       "    <tr>\n",
       "      <th>std</th>\n",
       "      <td>0.773282</td>\n",
       "      <td>0.792294</td>\n",
       "      <td>0.790844</td>\n",
       "    </tr>\n",
       "    <tr>\n",
       "      <th>min</th>\n",
       "      <td>0.000000</td>\n",
       "      <td>0.000000</td>\n",
       "      <td>0.000000</td>\n",
       "    </tr>\n",
       "    <tr>\n",
       "      <th>25%</th>\n",
       "      <td>1.000000</td>\n",
       "      <td>1.000000</td>\n",
       "      <td>0.000000</td>\n",
       "    </tr>\n",
       "    <tr>\n",
       "      <th>50%</th>\n",
       "      <td>1.000000</td>\n",
       "      <td>1.000000</td>\n",
       "      <td>1.000000</td>\n",
       "    </tr>\n",
       "    <tr>\n",
       "      <th>75%</th>\n",
       "      <td>2.000000</td>\n",
       "      <td>2.000000</td>\n",
       "      <td>2.000000</td>\n",
       "    </tr>\n",
       "    <tr>\n",
       "      <th>max</th>\n",
       "      <td>2.000000</td>\n",
       "      <td>2.000000</td>\n",
       "      <td>2.000000</td>\n",
       "    </tr>\n",
       "  </tbody>\n",
       "</table>\n",
       "</div>"
      ],
      "text/plain": [
       "            rating  food_rating  service_rating\n",
       "count  1161.000000  1161.000000     1161.000000\n",
       "mean      1.199828     1.215332        1.090439\n",
       "std       0.773282     0.792294        0.790844\n",
       "min       0.000000     0.000000        0.000000\n",
       "25%       1.000000     1.000000        0.000000\n",
       "50%       1.000000     1.000000        1.000000\n",
       "75%       2.000000     2.000000        2.000000\n",
       "max       2.000000     2.000000        2.000000"
      ]
     },
     "execution_count": 35,
     "metadata": {},
     "output_type": "execute_result"
    }
   ],
   "source": [
    "data[['rating', 'food_rating', 'service_rating']].describe()"
   ]
  },
  {
   "cell_type": "code",
   "execution_count": 38,
   "metadata": {
    "execution": {
     "iopub.execute_input": "2022-12-09T13:17:22.771948Z",
     "iopub.status.busy": "2022-12-09T13:17:22.771532Z",
     "iopub.status.idle": "2022-12-09T13:17:23.241747Z",
     "shell.execute_reply": "2022-12-09T13:17:23.240646Z",
     "shell.execute_reply.started": "2022-12-09T13:17:22.771917Z"
    }
   },
   "outputs": [
    {
     "data": {
      "image/png": "[encoded data removed]",
      "text/plain": [
       "<Figure size 864x864 with 3 Axes>"
      ]
     },
     "metadata": {},
     "output_type": "display_data"
    }
   ],
   "source": [
    "# Построим распределение рейтингов food_rating, service_rating с помощью блочной диаграммы\n",
    "\n",
    "columns_to_plot = ['rating', 'food_rating', 'service_rating']\n",
    "\n",
    "plt.figure(figsize=(12, 12))\n",
    "for i, col in enumerate(columns_to_plot):\n",
    "    plt.subplot(2, 2, i+1)\n",
    "    sns.boxplot(data=data, x=col, color='red')\n",
    "    plt.xlabel(col)\n",
    "    plt.title(\"Бокс плот {}\".format(col))    \n",
    "plt.show()"
   ]
  },
  {
   "cell_type": "code",
   "execution_count": 39,
   "metadata": {
    "execution": {
     "iopub.execute_input": "2022-12-09T13:17:26.503180Z",
     "iopub.status.busy": "2022-12-09T13:17:26.502500Z",
     "iopub.status.idle": "2022-12-09T13:17:26.843788Z",
     "shell.execute_reply": "2022-12-09T13:17:26.842687Z",
     "shell.execute_reply.started": "2022-12-09T13:17:26.503144Z"
    }
   },
   "outputs": [
    {
     "data": {
      "image/png": "[encoded data removed]",
      "text/plain": [
       "<Figure size 1080x720 with 3 Axes>"
      ]
     },
     "metadata": {},
     "output_type": "display_data"
    }
   ],
   "source": [
    "# Визуализируем распределение rating, food_rating и service_rating\n",
    "\n",
    "columns_to_plot = ['rating', 'food_rating', 'service_rating']\n",
    "plt.figure(figsize=(15, 10))\n",
    "for i, col in enumerate(columns_to_plot):\n",
    "    plt.subplot(2, 2, i+1)\n",
    "    sns.countplot(data=data, x=col, palette='husl')\n",
    "    plt.xlabel(col)\n",
    "    plt.ylabel(\"Частота\")\n",
    "    plt.title(\"Частотное распределение {}\".format(col))    \n",
    "plt.show()"
   ]
  },
  {
   "cell_type": "markdown",
   "metadata": {},
   "source": [
    "# Система рекомендаций"
   ]
  },
  {
   "cell_type": "markdown",
   "metadata": {},
   "source": [
    "Для начала используем тип рекомендательной системы, который дает рекомендации на основе популярности продукта. Очень простой и понятный алгоритм"
   ]
  },
  {
   "cell_type": "markdown",
   "metadata": {},
   "source": [
    "### Присваиваем баллы каждому ресторану на основе количества их посещений, т. е. место, которое встречается чаще всего, является более популярным, следовательно, получает высокий балл."
   ]
  },
  {
   "cell_type": "code",
   "execution_count": 40,
   "metadata": {
    "execution": {
     "iopub.execute_input": "2022-12-09T13:17:31.408123Z",
     "iopub.status.busy": "2022-12-09T13:17:31.407734Z",
     "iopub.status.idle": "2022-12-09T13:17:31.417795Z",
     "shell.execute_reply": "2022-12-09T13:17:31.416528Z",
     "shell.execute_reply.started": "2022-12-09T13:17:31.408092Z"
    }
   },
   "outputs": [],
   "source": [
    "placeID_count = data.groupby('placeID').count()['userID'].to_dict()\n",
    "data['placeScore'] = data['placeID'].map(placeID_count)"
   ]
  },
  {
   "cell_type": "markdown",
   "metadata": {},
   "source": [
    "### Создаем 10 лучших рекомендаций"
   ]
  },
  {
   "cell_type": "code",
   "execution_count": 41,
   "metadata": {
    "execution": {
     "iopub.execute_input": "2022-12-09T13:17:32.503223Z",
     "iopub.status.busy": "2022-12-09T13:17:32.502840Z",
     "iopub.status.idle": "2022-12-09T13:17:32.518696Z",
     "shell.execute_reply": "2022-12-09T13:17:32.517636Z",
     "shell.execute_reply.started": "2022-12-09T13:17:32.503194Z"
    }
   },
   "outputs": [],
   "source": [
    "top_10_recommendations = pd.DataFrame(data['placeID'].value_counts()).reset_index().rename(columns = {'index' : 'placeID', 'placeID' : 'placeScore'}).iloc[ : 10]\n",
    "top_10_recommendations = pd.merge(data[['placeID','name']], top_10_recommendations, on='placeID', how='right').drop_duplicates()"
   ]
  },
  {
   "cell_type": "markdown",
   "metadata": {},
   "source": [
    "### 10 лучших рекомендаций"
   ]
  },
  {
   "cell_type": "code",
   "execution_count": 42,
   "metadata": {
    "execution": {
     "iopub.execute_input": "2022-12-09T13:17:33.361484Z",
     "iopub.status.busy": "2022-12-09T13:17:33.361093Z",
     "iopub.status.idle": "2022-12-09T13:17:33.372756Z",
     "shell.execute_reply": "2022-12-09T13:17:33.371739Z",
     "shell.execute_reply.started": "2022-12-09T13:17:33.361452Z"
    }
   },
   "outputs": [
    {
     "data": {
      "text/html": [
       "<div>\n",
       "<style scoped>\n",
       "    .dataframe tbody tr th:only-of-type {\n",
       "        vertical-align: middle;\n",
       "    }\n",
       "\n",
       "    .dataframe tbody tr th {\n",
       "        vertical-align: top;\n",
       "    }\n",
       "\n",
       "    .dataframe thead th {\n",
       "        text-align: right;\n",
       "    }\n",
       "</style>\n",
       "<table border=\"1\" class=\"dataframe\">\n",
       "  <thead>\n",
       "    <tr style=\"text-align: right;\">\n",
       "      <th></th>\n",
       "      <th>placeID</th>\n",
       "      <th>name</th>\n",
       "      <th>placeScore</th>\n",
       "    </tr>\n",
       "  </thead>\n",
       "  <tbody>\n",
       "    <tr>\n",
       "      <th>0</th>\n",
       "      <td>135085</td>\n",
       "      <td>Tortas Locas Hipocampo</td>\n",
       "      <td>36</td>\n",
       "    </tr>\n",
       "    <tr>\n",
       "      <th>36</th>\n",
       "      <td>132825</td>\n",
       "      <td>puesto de tacos</td>\n",
       "      <td>32</td>\n",
       "    </tr>\n",
       "    <tr>\n",
       "      <th>68</th>\n",
       "      <td>135032</td>\n",
       "      <td>Cafeteria y Restaurant El Pacifico</td>\n",
       "      <td>28</td>\n",
       "    </tr>\n",
       "    <tr>\n",
       "      <th>96</th>\n",
       "      <td>135052</td>\n",
       "      <td>La Cantina Restaurante</td>\n",
       "      <td>25</td>\n",
       "    </tr>\n",
       "    <tr>\n",
       "      <th>121</th>\n",
       "      <td>132834</td>\n",
       "      <td>Gorditas Doa Gloria</td>\n",
       "      <td>25</td>\n",
       "    </tr>\n",
       "    <tr>\n",
       "      <th>146</th>\n",
       "      <td>135038</td>\n",
       "      <td>Restaurant la Chalita</td>\n",
       "      <td>24</td>\n",
       "    </tr>\n",
       "    <tr>\n",
       "      <th>170</th>\n",
       "      <td>135060</td>\n",
       "      <td>Restaurante Marisco Sam</td>\n",
       "      <td>22</td>\n",
       "    </tr>\n",
       "    <tr>\n",
       "      <th>192</th>\n",
       "      <td>135062</td>\n",
       "      <td>Restaurante El Cielo Potosino</td>\n",
       "      <td>21</td>\n",
       "    </tr>\n",
       "    <tr>\n",
       "      <th>213</th>\n",
       "      <td>135042</td>\n",
       "      <td>Restaurant Oriental Express</td>\n",
       "      <td>20</td>\n",
       "    </tr>\n",
       "    <tr>\n",
       "      <th>233</th>\n",
       "      <td>135058</td>\n",
       "      <td>Restaurante Tiberius</td>\n",
       "      <td>18</td>\n",
       "    </tr>\n",
       "  </tbody>\n",
       "</table>\n",
       "</div>"
      ],
      "text/plain": [
       "     placeID                                name  placeScore\n",
       "0     135085              Tortas Locas Hipocampo          36\n",
       "36    132825                     puesto de tacos          32\n",
       "68    135032  Cafeteria y Restaurant El Pacifico          28\n",
       "96    135052              La Cantina Restaurante          25\n",
       "121   132834                 Gorditas Doa Gloria          25\n",
       "146   135038               Restaurant la Chalita          24\n",
       "170   135060             Restaurante Marisco Sam          22\n",
       "192   135062       Restaurante El Cielo Potosino          21\n",
       "213   135042         Restaurant Oriental Express          20\n",
       "233   135058                Restaurante Tiberius          18"
      ]
     },
     "execution_count": 42,
     "metadata": {},
     "output_type": "execute_result"
    }
   ],
   "source": [
    "top_10_recommendations"
   ]
  },
  {
   "cell_type": "markdown",
   "metadata": {},
   "source": [
    "**2. Совместная фильтрация:**\n",
    "\n",
    "\n",
    "В общем, совместная фильтрация — это процесс фильтрации информации с использованием методов, включающих несколько агентов, точку зрения, источники данных и т. д. В частности, для рекомендательных систем совместная фильтрация — это метод для создания прогнозов об интересах/предпочтениях пользователя в отношении продукта на основе интересы/предпочтения других подобных пользователей.\n",
    "\n",
    "Основополагающее предположение, лежащее в основе этой концепции, состоит в том, что если человек А имеет такое же мнение о продукте, как и мнение человека Б о каком-то другом продукте, то весьма вероятно, что мнение А будет похоже на мнение Б о каком-то другом продукте, в отличии от случайно выбранного человека."
   ]
  },
  {
   "cell_type": "code",
   "execution_count": 43,
   "metadata": {
    "execution": {
     "iopub.execute_input": "2022-12-09T13:17:35.189899Z",
     "iopub.status.busy": "2022-12-09T13:17:35.189509Z",
     "iopub.status.idle": "2022-12-09T13:17:35.195817Z",
     "shell.execute_reply": "2022-12-09T13:17:35.194741Z",
     "shell.execute_reply.started": "2022-12-09T13:17:35.189869Z"
    }
   },
   "outputs": [],
   "source": [
    "data.drop('placeScore', axis=1, inplace=True)"
   ]
  },
  {
   "cell_type": "code",
   "execution_count": 44,
   "metadata": {
    "execution": {
     "iopub.execute_input": "2022-12-09T13:17:36.422667Z",
     "iopub.status.busy": "2022-12-09T13:17:36.422248Z",
     "iopub.status.idle": "2022-12-09T13:17:36.435261Z",
     "shell.execute_reply": "2022-12-09T13:17:36.434118Z",
     "shell.execute_reply.started": "2022-12-09T13:17:36.422633Z"
    }
   },
   "outputs": [
    {
     "data": {
      "text/html": [
       "<div>\n",
       "<style scoped>\n",
       "    .dataframe tbody tr th:only-of-type {\n",
       "        vertical-align: middle;\n",
       "    }\n",
       "\n",
       "    .dataframe tbody tr th {\n",
       "        vertical-align: top;\n",
       "    }\n",
       "\n",
       "    .dataframe thead th {\n",
       "        text-align: right;\n",
       "    }\n",
       "</style>\n",
       "<table border=\"1\" class=\"dataframe\">\n",
       "  <thead>\n",
       "    <tr style=\"text-align: right;\">\n",
       "      <th></th>\n",
       "      <th>userID</th>\n",
       "      <th>placeID</th>\n",
       "      <th>name</th>\n",
       "      <th>rating</th>\n",
       "      <th>food_rating</th>\n",
       "      <th>service_rating</th>\n",
       "    </tr>\n",
       "  </thead>\n",
       "  <tbody>\n",
       "    <tr>\n",
       "      <th>0</th>\n",
       "      <td>U1077</td>\n",
       "      <td>135085</td>\n",
       "      <td>Tortas Locas Hipocampo</td>\n",
       "      <td>2</td>\n",
       "      <td>2</td>\n",
       "      <td>2</td>\n",
       "    </tr>\n",
       "    <tr>\n",
       "      <th>1</th>\n",
       "      <td>U1108</td>\n",
       "      <td>135085</td>\n",
       "      <td>Tortas Locas Hipocampo</td>\n",
       "      <td>1</td>\n",
       "      <td>2</td>\n",
       "      <td>1</td>\n",
       "    </tr>\n",
       "    <tr>\n",
       "      <th>2</th>\n",
       "      <td>U1081</td>\n",
       "      <td>135085</td>\n",
       "      <td>Tortas Locas Hipocampo</td>\n",
       "      <td>1</td>\n",
       "      <td>2</td>\n",
       "      <td>1</td>\n",
       "    </tr>\n",
       "    <tr>\n",
       "      <th>3</th>\n",
       "      <td>U1056</td>\n",
       "      <td>135085</td>\n",
       "      <td>Tortas Locas Hipocampo</td>\n",
       "      <td>2</td>\n",
       "      <td>2</td>\n",
       "      <td>2</td>\n",
       "    </tr>\n",
       "    <tr>\n",
       "      <th>4</th>\n",
       "      <td>U1134</td>\n",
       "      <td>135085</td>\n",
       "      <td>Tortas Locas Hipocampo</td>\n",
       "      <td>2</td>\n",
       "      <td>1</td>\n",
       "      <td>2</td>\n",
       "    </tr>\n",
       "  </tbody>\n",
       "</table>\n",
       "</div>"
      ],
      "text/plain": [
       "  userID  placeID                    name  rating  food_rating  service_rating\n",
       "0  U1077   135085  Tortas Locas Hipocampo       2            2               2\n",
       "1  U1108   135085  Tortas Locas Hipocampo       1            2               1\n",
       "2  U1081   135085  Tortas Locas Hipocampo       1            2               1\n",
       "3  U1056   135085  Tortas Locas Hipocampo       2            2               2\n",
       "4  U1134   135085  Tortas Locas Hipocampo       2            1               2"
      ]
     },
     "execution_count": 44,
     "metadata": {},
     "output_type": "execute_result"
    }
   ],
   "source": [
    "data.head()"
   ]
  },
  {
   "cell_type": "markdown",
   "metadata": {},
   "source": [
    "### Создаем объект для чтения"
   ]
  },
  {
   "cell_type": "code",
   "execution_count": 45,
   "metadata": {
    "execution": {
     "iopub.execute_input": "2022-12-09T13:17:37.487745Z",
     "iopub.status.busy": "2022-12-09T13:17:37.487332Z",
     "iopub.status.idle": "2022-12-09T13:17:37.497018Z",
     "shell.execute_reply": "2022-12-09T13:17:37.495777Z",
     "shell.execute_reply.started": "2022-12-09T13:17:37.487708Z"
    }
   },
   "outputs": [],
   "source": [
    "reader = Reader(rating_scale=(0,2)) # Класс Reader используется для анализа файла, содержащего рейтинги.\n",
    "rating_data = Dataset.load_from_df(data[['userID', 'placeID', 'rating']], reader)"
   ]
  },
  {
   "cell_type": "markdown",
   "metadata": {},
   "source": [
    "# Использование разложения по сингулярным значениям (матричная факторизация) для построения рекомендательной системы"
   ]
  },
  {
   "cell_type": "code",
   "execution_count": 46,
   "metadata": {
    "execution": {
     "iopub.execute_input": "2022-12-09T13:17:38.582294Z",
     "iopub.status.busy": "2022-12-09T13:17:38.581914Z",
     "iopub.status.idle": "2022-12-09T13:17:39.347143Z",
     "shell.execute_reply": "2022-12-09T13:17:39.346093Z",
     "shell.execute_reply.started": "2022-12-09T13:17:38.582265Z"
    }
   },
   "outputs": [
    {
     "name": "stdout",
     "output_type": "stream",
     "text": [
      "Processing epoch 0\n",
      "Processing epoch 1\n",
      "Processing epoch 2\n",
      "Processing epoch 3\n",
      "Processing epoch 4\n",
      "Processing epoch 5\n",
      "Processing epoch 6\n",
      "Processing epoch 7\n",
      "Processing epoch 8\n",
      "Processing epoch 9\n",
      "Processing epoch 10\n",
      "Processing epoch 11\n",
      "Processing epoch 12\n",
      "Processing epoch 13\n",
      "Processing epoch 14\n",
      "Processing epoch 15\n",
      "Processing epoch 16\n",
      "Processing epoch 17\n",
      "Processing epoch 18\n",
      "Processing epoch 19\n",
      "Processing epoch 20\n",
      "Processing epoch 21\n",
      "Processing epoch 22\n",
      "Processing epoch 23\n",
      "Processing epoch 24\n",
      "Processing epoch 25\n",
      "Processing epoch 26\n",
      "Processing epoch 27\n",
      "Processing epoch 28\n",
      "Processing epoch 29\n",
      "Processing epoch 30\n",
      "Processing epoch 31\n",
      "Processing epoch 32\n",
      "Processing epoch 33\n",
      "Processing epoch 34\n",
      "Processing epoch 35\n",
      "Processing epoch 36\n",
      "Processing epoch 37\n",
      "Processing epoch 38\n",
      "Processing epoch 39\n",
      "Processing epoch 40\n",
      "Processing epoch 41\n",
      "Processing epoch 42\n",
      "Processing epoch 43\n",
      "Processing epoch 44\n",
      "Processing epoch 45\n",
      "Processing epoch 46\n",
      "Processing epoch 47\n",
      "Processing epoch 48\n",
      "Processing epoch 49\n",
      "Processing epoch 50\n",
      "Processing epoch 51\n",
      "Processing epoch 52\n",
      "Processing epoch 53\n",
      "Processing epoch 54\n",
      "Processing epoch 55\n",
      "Processing epoch 56\n",
      "Processing epoch 57\n",
      "Processing epoch 58\n",
      "Processing epoch 59\n",
      "Processing epoch 60\n",
      "Processing epoch 61\n",
      "Processing epoch 62\n",
      "Processing epoch 63\n",
      "Processing epoch 64\n",
      "Processing epoch 65\n",
      "Processing epoch 66\n",
      "Processing epoch 67\n",
      "Processing epoch 68\n",
      "Processing epoch 69\n",
      "Processing epoch 70\n",
      "Processing epoch 71\n",
      "Processing epoch 72\n",
      "Processing epoch 73\n",
      "Processing epoch 74\n",
      "Processing epoch 75\n",
      "Processing epoch 76\n",
      "Processing epoch 77\n",
      "Processing epoch 78\n",
      "Processing epoch 79\n",
      "Processing epoch 80\n",
      "Processing epoch 81\n",
      "Processing epoch 82\n",
      "Processing epoch 83\n",
      "Processing epoch 84\n",
      "Processing epoch 85\n",
      "Processing epoch 86\n",
      "Processing epoch 87\n",
      "Processing epoch 88\n",
      "Processing epoch 89\n",
      "Processing epoch 90\n",
      "Processing epoch 91\n",
      "Processing epoch 92\n",
      "Processing epoch 93\n",
      "Processing epoch 94\n",
      "Processing epoch 95\n",
      "Processing epoch 96\n",
      "Processing epoch 97\n",
      "Processing epoch 98\n",
      "Processing epoch 99\n",
      "Processing epoch 0\n",
      "Processing epoch 1\n",
      "Processing epoch 2\n",
      "Processing epoch 3\n",
      "Processing epoch 4\n",
      "Processing epoch 5\n",
      "Processing epoch 6\n",
      "Processing epoch 7\n",
      "Processing epoch 8\n",
      "Processing epoch 9\n",
      "Processing epoch 10\n",
      "Processing epoch 11\n",
      "Processing epoch 12\n",
      "Processing epoch 13\n",
      "Processing epoch 14\n",
      "Processing epoch 15\n",
      "Processing epoch 16\n",
      "Processing epoch 17\n",
      "Processing epoch 18\n",
      "Processing epoch 19\n",
      "Processing epoch 20\n",
      "Processing epoch 21\n",
      "Processing epoch 22\n",
      "Processing epoch 23\n",
      "Processing epoch 24\n",
      "Processing epoch 25\n",
      "Processing epoch 26\n",
      "Processing epoch 27\n",
      "Processing epoch 28\n",
      "Processing epoch 29\n",
      "Processing epoch 30\n",
      "Processing epoch 31\n",
      "Processing epoch 32\n",
      "Processing epoch 33\n",
      "Processing epoch 34\n",
      "Processing epoch 35\n",
      "Processing epoch 36\n",
      "Processing epoch 37\n",
      "Processing epoch 38\n",
      "Processing epoch 39\n",
      "Processing epoch 40\n",
      "Processing epoch 41\n",
      "Processing epoch 42\n",
      "Processing epoch 43\n",
      "Processing epoch 44\n",
      "Processing epoch 45\n",
      "Processing epoch 46\n",
      "Processing epoch 47\n",
      "Processing epoch 48\n",
      "Processing epoch 49\n",
      "Processing epoch 50\n",
      "Processing epoch 51\n",
      "Processing epoch 52\n",
      "Processing epoch 53\n",
      "Processing epoch 54\n",
      "Processing epoch 55\n",
      "Processing epoch 56\n",
      "Processing epoch 57\n",
      "Processing epoch 58\n",
      "Processing epoch 59\n",
      "Processing epoch 60\n",
      "Processing epoch 61\n",
      "Processing epoch 62\n",
      "Processing epoch 63\n",
      "Processing epoch 64\n",
      "Processing epoch 65\n",
      "Processing epoch 66\n",
      "Processing epoch 67\n",
      "Processing epoch 68\n",
      "Processing epoch 69\n",
      "Processing epoch 70\n",
      "Processing epoch 71\n",
      "Processing epoch 72\n",
      "Processing epoch 73\n",
      "Processing epoch 74\n",
      "Processing epoch 75\n",
      "Processing epoch 76\n",
      "Processing epoch 77\n",
      "Processing epoch 78\n",
      "Processing epoch 79\n",
      "Processing epoch 80\n",
      "Processing epoch 81\n",
      "Processing epoch 82\n",
      "Processing epoch 83\n",
      "Processing epoch 84\n",
      "Processing epoch 85\n",
      "Processing epoch 86\n",
      "Processing epoch 87\n",
      "Processing epoch 88\n",
      "Processing epoch 89\n",
      "Processing epoch 90\n",
      "Processing epoch 91\n",
      "Processing epoch 92\n",
      "Processing epoch 93\n",
      "Processing epoch 94\n",
      "Processing epoch 95\n",
      "Processing epoch 96\n",
      "Processing epoch 97\n",
      "Processing epoch 98\n",
      "Processing epoch 99\n",
      "Processing epoch 0\n",
      "Processing epoch 1\n",
      "Processing epoch 2\n",
      "Processing epoch 3\n",
      "Processing epoch 4\n",
      "Processing epoch 5\n",
      "Processing epoch 6\n",
      "Processing epoch 7\n",
      "Processing epoch 8\n",
      "Processing epoch 9\n",
      "Processing epoch 10\n",
      "Processing epoch 11\n",
      "Processing epoch 12\n",
      "Processing epoch 13\n",
      "Processing epoch 14\n",
      "Processing epoch 15\n",
      "Processing epoch 16\n",
      "Processing epoch 17\n",
      "Processing epoch 18\n",
      "Processing epoch 19\n",
      "Processing epoch 20\n",
      "Processing epoch 21\n",
      "Processing epoch 22\n",
      "Processing epoch 23\n",
      "Processing epoch 24\n",
      "Processing epoch 25\n",
      "Processing epoch 26\n",
      "Processing epoch 27\n",
      "Processing epoch 28\n",
      "Processing epoch 29\n",
      "Processing epoch 30\n",
      "Processing epoch 31\n",
      "Processing epoch 32\n",
      "Processing epoch 33\n",
      "Processing epoch 34\n",
      "Processing epoch 35\n",
      "Processing epoch 36\n",
      "Processing epoch 37\n",
      "Processing epoch 38\n",
      "Processing epoch 39\n",
      "Processing epoch 40\n",
      "Processing epoch 41\n",
      "Processing epoch 42\n",
      "Processing epoch 43\n",
      "Processing epoch 44\n",
      "Processing epoch 45\n",
      "Processing epoch 46\n",
      "Processing epoch 47\n",
      "Processing epoch 48\n",
      "Processing epoch 49\n",
      "Processing epoch 50\n",
      "Processing epoch 51\n",
      "Processing epoch 52\n",
      "Processing epoch 53\n",
      "Processing epoch 54\n",
      "Processing epoch 55\n",
      "Processing epoch 56\n",
      "Processing epoch 57\n",
      "Processing epoch 58\n",
      "Processing epoch 59\n",
      "Processing epoch 60\n",
      "Processing epoch 61\n",
      "Processing epoch 62\n",
      "Processing epoch 63\n",
      "Processing epoch 64\n",
      "Processing epoch 65\n",
      "Processing epoch 66\n",
      "Processing epoch 67\n",
      "Processing epoch 68\n",
      "Processing epoch 69\n",
      "Processing epoch 70\n",
      "Processing epoch 71\n",
      "Processing epoch 72\n",
      "Processing epoch 73\n",
      "Processing epoch 74\n",
      "Processing epoch 75\n",
      "Processing epoch 76\n",
      "Processing epoch 77\n",
      "Processing epoch 78\n",
      "Processing epoch 79\n",
      "Processing epoch 80\n",
      "Processing epoch 81\n",
      "Processing epoch 82\n",
      "Processing epoch 83\n",
      "Processing epoch 84\n",
      "Processing epoch 85\n",
      "Processing epoch 86\n",
      "Processing epoch 87\n",
      "Processing epoch 88\n",
      "Processing epoch 89\n",
      "Processing epoch 90\n",
      "Processing epoch 91\n",
      "Processing epoch 92\n",
      "Processing epoch 93\n",
      "Processing epoch 94\n",
      "Processing epoch 95\n",
      "Processing epoch 96\n",
      "Processing epoch 97\n",
      "Processing epoch 98\n",
      "Processing epoch 99\n",
      "Evaluating RMSE, MAE of algorithm SVD on 3 split(s).\n",
      "\n",
      "                  Fold 1  Fold 2  Fold 3  Mean    Std     \n",
      "RMSE (testset)    0.6537  0.6510  0.6822  0.6623  0.0141  \n",
      "MAE (testset)     0.5299  0.5313  0.5546  0.5386  0.0113  \n",
      "Fit time          0.25    0.25    0.25    0.25    0.00    \n",
      "Test time         0.00    0.00    0.00    0.00    0.00    \n"
     ]
    }
   ],
   "source": [
    "svd = SVD(verbose=True, n_epochs=100)\n",
    "svd_results = cross_validate(svd, rating_data, measures=['RMSE', 'MAE'], cv=3, verbose=True)"
   ]
  },
  {
   "cell_type": "code",
   "execution_count": 47,
   "metadata": {
    "execution": {
     "iopub.execute_input": "2022-12-09T13:17:39.539642Z",
     "iopub.status.busy": "2022-12-09T13:17:39.538690Z",
     "iopub.status.idle": "2022-12-09T13:17:39.546322Z",
     "shell.execute_reply": "2022-12-09T13:17:39.545252Z",
     "shell.execute_reply.started": "2022-12-09T13:17:39.539574Z"
    }
   },
   "outputs": [
    {
     "data": {
      "text/plain": [
       "{'test_rmse': array([0.65365934, 0.65104267, 0.68220918]),\n",
       " 'test_mae': array([0.52987044, 0.53130267, 0.55458904]),\n",
       " 'fit_time': (0.25042057037353516, 0.24772024154663086, 0.24522185325622559),\n",
       " 'test_time': (0.0032835006713867188,\n",
       "  0.0026786327362060547,\n",
       "  0.002908945083618164)}"
      ]
     },
     "execution_count": 47,
     "metadata": {},
     "output_type": "execute_result"
    }
   ],
   "source": [
    "svd_results"
   ]
  },
  {
   "cell_type": "code",
   "execution_count": 48,
   "metadata": {
    "execution": {
     "iopub.execute_input": "2022-12-09T13:17:40.829522Z",
     "iopub.status.busy": "2022-12-09T13:17:40.829146Z",
     "iopub.status.idle": "2022-12-09T13:17:40.860285Z",
     "shell.execute_reply": "2022-12-09T13:17:40.859438Z",
     "shell.execute_reply.started": "2022-12-09T13:17:40.829492Z"
    }
   },
   "outputs": [
    {
     "name": "stdout",
     "output_type": "stream",
     "text": [
      "Evaluating RMSE, MAE of algorithm SlopeOne on 3 split(s).\n",
      "\n",
      "                  Fold 1  Fold 2  Fold 3  Mean    Std     \n",
      "RMSE (testset)    0.7563  0.7775  0.7148  0.7495  0.0260  \n",
      "MAE (testset)     0.5667  0.5745  0.5156  0.5522  0.0261  \n",
      "Fit time          0.00    0.00    0.00    0.00    0.00    \n",
      "Test time         0.00    0.00    0.00    0.00    0.00    \n"
     ]
    }
   ],
   "source": [
    "# Результаты SlopOne\n",
    "\n",
    "slope_one = SlopeOne()\n",
    "slope_one_results = cross_validate(slope_one, rating_data, measures=['RMSE', 'MAE'], cv=3, verbose=True)"
   ]
  },
  {
   "cell_type": "code",
   "execution_count": 49,
   "metadata": {
    "execution": {
     "iopub.execute_input": "2022-12-09T13:17:41.463589Z",
     "iopub.status.busy": "2022-12-09T13:17:41.462874Z",
     "iopub.status.idle": "2022-12-09T13:17:41.470505Z",
     "shell.execute_reply": "2022-12-09T13:17:41.469635Z",
     "shell.execute_reply.started": "2022-12-09T13:17:41.463548Z"
    }
   },
   "outputs": [
    {
     "data": {
      "text/plain": [
       "{'test_rmse': array([0.75634665, 0.77746053, 0.71478691]),\n",
       " 'test_mae': array([0.56669483, 0.57445593, 0.51556528]),\n",
       " 'fit_time': (0.0023374557495117188,\n",
       "  0.0021839141845703125,\n",
       "  0.0024318695068359375),\n",
       " 'test_time': (0.004126310348510742,\n",
       "  0.0032312870025634766,\n",
       "  0.004116058349609375)}"
      ]
     },
     "execution_count": 49,
     "metadata": {},
     "output_type": "execute_result"
    }
   ],
   "source": [
    "slope_one_results"
   ]
  },
  {
   "cell_type": "code",
   "execution_count": 50,
   "metadata": {
    "execution": {
     "iopub.execute_input": "2022-12-09T13:17:42.124130Z",
     "iopub.status.busy": "2022-12-09T13:17:42.123420Z",
     "iopub.status.idle": "2022-12-09T13:17:42.550120Z",
     "shell.execute_reply": "2022-12-09T13:17:42.549167Z",
     "shell.execute_reply.started": "2022-12-09T13:17:42.124090Z"
    }
   },
   "outputs": [
    {
     "name": "stdout",
     "output_type": "stream",
     "text": [
      "Processing epoch 0\n",
      "Processing epoch 1\n",
      "Processing epoch 2\n",
      "Processing epoch 3\n",
      "Processing epoch 4\n",
      "Processing epoch 5\n",
      "Processing epoch 6\n",
      "Processing epoch 7\n",
      "Processing epoch 8\n",
      "Processing epoch 9\n",
      "Processing epoch 10\n",
      "Processing epoch 11\n",
      "Processing epoch 12\n",
      "Processing epoch 13\n",
      "Processing epoch 14\n",
      "Processing epoch 15\n",
      "Processing epoch 16\n",
      "Processing epoch 17\n",
      "Processing epoch 18\n",
      "Processing epoch 19\n",
      "Processing epoch 20\n",
      "Processing epoch 21\n",
      "Processing epoch 22\n",
      "Processing epoch 23\n",
      "Processing epoch 24\n",
      "Processing epoch 25\n",
      "Processing epoch 26\n",
      "Processing epoch 27\n",
      "Processing epoch 28\n",
      "Processing epoch 29\n",
      "Processing epoch 30\n",
      "Processing epoch 31\n",
      "Processing epoch 32\n",
      "Processing epoch 33\n",
      "Processing epoch 34\n",
      "Processing epoch 35\n",
      "Processing epoch 36\n",
      "Processing epoch 37\n",
      "Processing epoch 38\n",
      "Processing epoch 39\n",
      "Processing epoch 40\n",
      "Processing epoch 41\n",
      "Processing epoch 42\n",
      "Processing epoch 43\n",
      "Processing epoch 44\n",
      "Processing epoch 45\n",
      "Processing epoch 46\n",
      "Processing epoch 47\n",
      "Processing epoch 48\n",
      "Processing epoch 49\n",
      "Processing epoch 50\n",
      "Processing epoch 51\n",
      "Processing epoch 52\n",
      "Processing epoch 53\n",
      "Processing epoch 54\n",
      "Processing epoch 55\n",
      "Processing epoch 56\n",
      "Processing epoch 57\n",
      "Processing epoch 58\n",
      "Processing epoch 59\n",
      "Processing epoch 60\n",
      "Processing epoch 61\n",
      "Processing epoch 62\n",
      "Processing epoch 63\n",
      "Processing epoch 64\n",
      "Processing epoch 65\n",
      "Processing epoch 66\n",
      "Processing epoch 67\n",
      "Processing epoch 68\n",
      "Processing epoch 69\n",
      "Processing epoch 70\n",
      "Processing epoch 71\n",
      "Processing epoch 72\n",
      "Processing epoch 73\n",
      "Processing epoch 74\n",
      "Processing epoch 75\n",
      "Processing epoch 76\n",
      "Processing epoch 77\n",
      "Processing epoch 78\n",
      "Processing epoch 79\n",
      "Processing epoch 80\n",
      "Processing epoch 81\n",
      "Processing epoch 82\n",
      "Processing epoch 83\n",
      "Processing epoch 84\n",
      "Processing epoch 85\n",
      "Processing epoch 86\n",
      "Processing epoch 87\n",
      "Processing epoch 88\n",
      "Processing epoch 89\n",
      "Processing epoch 90\n",
      "Processing epoch 91\n",
      "Processing epoch 92\n",
      "Processing epoch 93\n",
      "Processing epoch 94\n",
      "Processing epoch 95\n",
      "Processing epoch 96\n",
      "Processing epoch 97\n",
      "Processing epoch 98\n",
      "Processing epoch 99\n",
      "Processing epoch 0\n",
      "Processing epoch 1\n",
      "Processing epoch 2\n",
      "Processing epoch 3\n",
      "Processing epoch 4\n",
      "Processing epoch 5\n",
      "Processing epoch 6\n",
      "Processing epoch 7\n",
      "Processing epoch 8\n",
      "Processing epoch 9\n",
      "Processing epoch 10\n",
      "Processing epoch 11\n",
      "Processing epoch 12\n",
      "Processing epoch 13\n",
      "Processing epoch 14\n",
      "Processing epoch 15\n",
      "Processing epoch 16\n",
      "Processing epoch 17\n",
      "Processing epoch 18\n",
      "Processing epoch 19\n",
      "Processing epoch 20\n",
      "Processing epoch 21\n",
      "Processing epoch 22\n",
      "Processing epoch 23\n",
      "Processing epoch 24\n",
      "Processing epoch 25\n",
      "Processing epoch 26\n",
      "Processing epoch 27\n",
      "Processing epoch 28\n",
      "Processing epoch 29\n",
      "Processing epoch 30\n",
      "Processing epoch 31\n",
      "Processing epoch 32\n",
      "Processing epoch 33\n",
      "Processing epoch 34\n",
      "Processing epoch 35\n",
      "Processing epoch 36\n",
      "Processing epoch 37\n",
      "Processing epoch 38\n",
      "Processing epoch 39\n",
      "Processing epoch 40\n",
      "Processing epoch 41\n",
      "Processing epoch 42\n",
      "Processing epoch 43\n",
      "Processing epoch 44\n",
      "Processing epoch 45\n",
      "Processing epoch 46\n",
      "Processing epoch 47\n",
      "Processing epoch 48\n",
      "Processing epoch 49\n",
      "Processing epoch 50\n",
      "Processing epoch 51\n",
      "Processing epoch 52\n",
      "Processing epoch 53\n",
      "Processing epoch 54\n",
      "Processing epoch 55\n",
      "Processing epoch 56\n",
      "Processing epoch 57\n",
      "Processing epoch 58\n",
      "Processing epoch 59\n",
      "Processing epoch 60\n",
      "Processing epoch 61\n",
      "Processing epoch 62\n",
      "Processing epoch 63\n",
      "Processing epoch 64\n",
      "Processing epoch 65\n",
      "Processing epoch 66\n",
      "Processing epoch 67\n",
      "Processing epoch 68\n",
      "Processing epoch 69\n",
      "Processing epoch 70\n",
      "Processing epoch 71\n",
      "Processing epoch 72\n",
      "Processing epoch 73\n",
      "Processing epoch 74\n",
      "Processing epoch 75\n",
      "Processing epoch 76\n",
      "Processing epoch 77\n",
      "Processing epoch 78\n",
      "Processing epoch 79\n",
      "Processing epoch 80\n",
      "Processing epoch 81\n",
      "Processing epoch 82\n",
      "Processing epoch 83\n",
      "Processing epoch 84\n",
      "Processing epoch 85\n",
      "Processing epoch 86\n",
      "Processing epoch 87\n",
      "Processing epoch 88\n",
      "Processing epoch 89\n",
      "Processing epoch 90\n",
      "Processing epoch 91\n",
      "Processing epoch 92\n",
      "Processing epoch 93\n",
      "Processing epoch 94\n",
      "Processing epoch 95\n",
      "Processing epoch 96\n",
      "Processing epoch 97\n",
      "Processing epoch 98\n",
      "Processing epoch 99\n",
      "Processing epoch 0\n",
      "Processing epoch 1\n",
      "Processing epoch 2\n",
      "Processing epoch 3\n",
      "Processing epoch 4\n",
      "Processing epoch 5\n",
      "Processing epoch 6\n",
      "Processing epoch 7\n",
      "Processing epoch 8\n",
      "Processing epoch 9\n",
      "Processing epoch 10\n",
      "Processing epoch 11\n",
      "Processing epoch 12\n",
      "Processing epoch 13\n",
      "Processing epoch 14\n",
      "Processing epoch 15\n",
      "Processing epoch 16\n",
      "Processing epoch 17\n",
      "Processing epoch 18\n",
      "Processing epoch 19\n",
      "Processing epoch 20\n",
      "Processing epoch 21\n",
      "Processing epoch 22\n",
      "Processing epoch 23\n",
      "Processing epoch 24\n",
      "Processing epoch 25\n",
      "Processing epoch 26\n",
      "Processing epoch 27\n",
      "Processing epoch 28\n",
      "Processing epoch 29\n",
      "Processing epoch 30\n",
      "Processing epoch 31\n",
      "Processing epoch 32\n",
      "Processing epoch 33\n",
      "Processing epoch 34\n",
      "Processing epoch 35\n",
      "Processing epoch 36\n",
      "Processing epoch 37\n",
      "Processing epoch 38\n",
      "Processing epoch 39\n",
      "Processing epoch 40\n",
      "Processing epoch 41\n",
      "Processing epoch 42\n",
      "Processing epoch 43\n",
      "Processing epoch 44\n",
      "Processing epoch 45\n",
      "Processing epoch 46\n",
      "Processing epoch 47\n",
      "Processing epoch 48\n",
      "Processing epoch 49\n",
      "Processing epoch 50\n",
      "Processing epoch 51\n",
      "Processing epoch 52\n",
      "Processing epoch 53\n",
      "Processing epoch 54\n",
      "Processing epoch 55\n",
      "Processing epoch 56\n",
      "Processing epoch 57\n",
      "Processing epoch 58\n",
      "Processing epoch 59\n",
      "Processing epoch 60\n",
      "Processing epoch 61\n",
      "Processing epoch 62\n",
      "Processing epoch 63\n",
      "Processing epoch 64\n",
      "Processing epoch 65\n",
      "Processing epoch 66\n",
      "Processing epoch 67\n",
      "Processing epoch 68\n",
      "Processing epoch 69\n",
      "Processing epoch 70\n",
      "Processing epoch 71\n",
      "Processing epoch 72\n",
      "Processing epoch 73\n",
      "Processing epoch 74\n",
      "Processing epoch 75\n",
      "Processing epoch 76\n",
      "Processing epoch 77\n",
      "Processing epoch 78\n",
      "Processing epoch 79\n",
      "Processing epoch 80\n",
      "Processing epoch 81\n",
      "Processing epoch 82\n",
      "Processing epoch 83\n",
      "Processing epoch 84\n",
      "Processing epoch 85\n",
      "Processing epoch 86\n",
      "Processing epoch 87\n",
      "Processing epoch 88\n",
      "Processing epoch 89\n",
      "Processing epoch 90\n",
      "Processing epoch 91\n",
      "Processing epoch 92\n",
      "Processing epoch 93\n",
      "Processing epoch 94\n",
      "Processing epoch 95\n",
      "Processing epoch 96\n",
      "Processing epoch 97\n",
      "Processing epoch 98\n",
      "Processing epoch 99\n",
      "Evaluating RMSE, MAE of algorithm CoClustering on 3 split(s).\n",
      "\n",
      "                  Fold 1  Fold 2  Fold 3  Mean    Std     \n",
      "RMSE (testset)    0.7204  0.6976  0.6764  0.6981  0.0180  \n",
      "MAE (testset)     0.5312  0.5184  0.4920  0.5139  0.0163  \n",
      "Fit time          0.15    0.13    0.13    0.14    0.01    \n",
      "Test time         0.00    0.00    0.00    0.00    0.00    \n"
     ]
    }
   ],
   "source": [
    "# Совместная кластеризация\n",
    "co_clustering = CoClustering(n_epochs=100, verbose=True, random_state=0)\n",
    "co_clustering_results = cross_validate(co_clustering, rating_data, measures=['RMSE', 'MAE'], cv=3, verbose=True)"
   ]
  },
  {
   "cell_type": "code",
   "execution_count": 51,
   "metadata": {
    "execution": {
     "iopub.execute_input": "2022-12-09T13:17:42.804711Z",
     "iopub.status.busy": "2022-12-09T13:17:42.804224Z",
     "iopub.status.idle": "2022-12-09T13:17:42.813175Z",
     "shell.execute_reply": "2022-12-09T13:17:42.811978Z",
     "shell.execute_reply.started": "2022-12-09T13:17:42.804664Z"
    }
   },
   "outputs": [
    {
     "data": {
      "text/plain": [
       "{'test_rmse': array([0.72040653, 0.6975957 , 0.67635337]),\n",
       " 'test_mae': array([0.53122943, 0.5184101 , 0.49201026]),\n",
       " 'fit_time': (0.14549779891967773, 0.13156700134277344, 0.12971043586730957),\n",
       " 'test_time': (0.0023391246795654297,\n",
       "  0.0019884109497070312,\n",
       "  0.0020797252655029297)}"
      ]
     },
     "execution_count": 51,
     "metadata": {},
     "output_type": "execute_result"
    }
   ],
   "source": [
    "co_clustering_results"
   ]
  },
  {
   "cell_type": "markdown",
   "metadata": {},
   "source": [
    "### KNNBasic"
   ]
  },
  {
   "cell_type": "code",
   "execution_count": 52,
   "metadata": {
    "execution": {
     "iopub.execute_input": "2022-12-09T13:17:44.291147Z",
     "iopub.status.busy": "2022-12-09T13:17:44.290163Z",
     "iopub.status.idle": "2022-12-09T13:17:44.324665Z",
     "shell.execute_reply": "2022-12-09T13:17:44.323337Z",
     "shell.execute_reply.started": "2022-12-09T13:17:44.291108Z"
    }
   },
   "outputs": [
    {
     "name": "stdout",
     "output_type": "stream",
     "text": [
      "Computing the msd similarity matrix...\n",
      "Done computing similarity matrix.\n",
      "Computing the msd similarity matrix...\n",
      "Done computing similarity matrix.\n",
      "Computing the msd similarity matrix...\n",
      "Done computing similarity matrix.\n",
      "Evaluating RMSE, MAE of algorithm KNNBasic on 3 split(s).\n",
      "\n",
      "                  Fold 1  Fold 2  Fold 3  Mean    Std     \n",
      "RMSE (testset)    0.8384  0.8370  0.8384  0.8379  0.0007  \n",
      "MAE (testset)     0.6888  0.6819  0.6664  0.6790  0.0093  \n",
      "Fit time          0.00    0.00    0.00    0.00    0.00    \n",
      "Test time         0.01    0.01    0.01    0.01    0.00    \n"
     ]
    }
   ],
   "source": [
    "knn_basic = KNNBasic(k=50)\n",
    "knn_basic_results = cross_validate(knn_basic, rating_data, measures=['RMSE', 'MAE'], cv=3, verbose=True)"
   ]
  },
  {
   "cell_type": "markdown",
   "metadata": {},
   "source": [
    "### KNNWithMeans"
   ]
  },
  {
   "cell_type": "code",
   "execution_count": 53,
   "metadata": {
    "execution": {
     "iopub.execute_input": "2022-12-09T13:17:45.503121Z",
     "iopub.status.busy": "2022-12-09T13:17:45.502174Z",
     "iopub.status.idle": "2022-12-09T13:17:45.540861Z",
     "shell.execute_reply": "2022-12-09T13:17:45.539676Z",
     "shell.execute_reply.started": "2022-12-09T13:17:45.503087Z"
    }
   },
   "outputs": [
    {
     "name": "stdout",
     "output_type": "stream",
     "text": [
      "Computing the msd similarity matrix...\n",
      "Done computing similarity matrix.\n",
      "Computing the msd similarity matrix...\n",
      "Done computing similarity matrix.\n",
      "Computing the msd similarity matrix...\n",
      "Done computing similarity matrix.\n",
      "Evaluating RMSE, MAE of algorithm KNNWithMeans on 3 split(s).\n",
      "\n",
      "                  Fold 1  Fold 2  Fold 3  Mean    Std     \n",
      "RMSE (testset)    0.6904  0.6864  0.7138  0.6969  0.0121  \n",
      "MAE (testset)     0.5159  0.4985  0.5348  0.5164  0.0148  \n",
      "Fit time          0.00    0.00    0.00    0.00    0.00    \n",
      "Test time         0.01    0.01    0.01    0.01    0.00    \n"
     ]
    }
   ],
   "source": [
    "knn_means = KNNWithMeans(k=100)\n",
    "knn_means_results = cross_validate(knn_means, rating_data, measures=['RMSE', 'MAE'], cv=3, verbose=True)"
   ]
  },
  {
   "cell_type": "code",
   "execution_count": 54,
   "metadata": {
    "execution": {
     "iopub.execute_input": "2022-12-09T13:17:45.883953Z",
     "iopub.status.busy": "2022-12-09T13:17:45.882981Z",
     "iopub.status.idle": "2022-12-09T13:17:45.891183Z",
     "shell.execute_reply": "2022-12-09T13:17:45.890253Z",
     "shell.execute_reply.started": "2022-12-09T13:17:45.883913Z"
    }
   },
   "outputs": [
    {
     "data": {
      "text/plain": [
       "{'test_rmse': array([0.69037119, 0.68643861, 0.71383111]),\n",
       " 'test_mae': array([0.51591581, 0.49851358, 0.5347986 ]),\n",
       " 'fit_time': (0.002763032913208008,\n",
       "  0.0025720596313476562,\n",
       "  0.002195119857788086),\n",
       " 'test_time': (0.006704807281494141,\n",
       "  0.006420135498046875,\n",
       "  0.00616002082824707)}"
      ]
     },
     "execution_count": 54,
     "metadata": {},
     "output_type": "execute_result"
    }
   ],
   "source": [
    "knn_means_results"
   ]
  },
  {
   "cell_type": "markdown",
   "metadata": {},
   "source": [
    "### KNNWithZScore\n"
   ]
  },
  {
   "cell_type": "code",
   "execution_count": 55,
   "metadata": {
    "execution": {
     "iopub.execute_input": "2022-12-09T13:17:46.804676Z",
     "iopub.status.busy": "2022-12-09T13:17:46.804272Z",
     "iopub.status.idle": "2022-12-09T13:17:46.859787Z",
     "shell.execute_reply": "2022-12-09T13:17:46.858661Z",
     "shell.execute_reply.started": "2022-12-09T13:17:46.804641Z"
    }
   },
   "outputs": [
    {
     "name": "stdout",
     "output_type": "stream",
     "text": [
      "Computing the msd similarity matrix...\n",
      "Done computing similarity matrix.\n",
      "Computing the msd similarity matrix...\n",
      "Done computing similarity matrix.\n",
      "Computing the msd similarity matrix...\n",
      "Done computing similarity matrix.\n",
      "Evaluating RMSE, MAE of algorithm KNNWithZScore on 3 split(s).\n",
      "\n",
      "                  Fold 1  Fold 2  Fold 3  Mean    Std     \n",
      "RMSE (testset)    0.6492  0.6879  0.7357  0.6909  0.0354  \n",
      "MAE (testset)     0.4969  0.5028  0.5574  0.5190  0.0272  \n",
      "Fit time          0.01    0.01    0.01    0.01    0.00    \n",
      "Test time         0.01    0.01    0.01    0.01    0.00    \n"
     ]
    }
   ],
   "source": [
    "knn_zscore = KNNWithZScore(k=100)\n",
    "knn_zscore_results = cross_validate(knn_zscore, rating_data, measures=['RMSE', 'MAE'], cv=3, verbose=True)"
   ]
  },
  {
   "cell_type": "code",
   "execution_count": 56,
   "metadata": {
    "execution": {
     "iopub.execute_input": "2022-12-09T13:17:47.506431Z",
     "iopub.status.busy": "2022-12-09T13:17:47.506023Z",
     "iopub.status.idle": "2022-12-09T13:17:47.514220Z",
     "shell.execute_reply": "2022-12-09T13:17:47.513190Z",
     "shell.execute_reply.started": "2022-12-09T13:17:47.506399Z"
    }
   },
   "outputs": [
    {
     "data": {
      "text/plain": [
       "array([[0.65365934, 0.65104267, 0.68220918],\n",
       "       [0.72040653, 0.6975957 , 0.67635337],\n",
       "       [0.75634665, 0.77746053, 0.71478691],\n",
       "       [0.83841881, 0.83700522, 0.83840753],\n",
       "       [0.69037119, 0.68643861, 0.71383111],\n",
       "       [0.64918674, 0.68789891, 0.73573764]])"
      ]
     },
     "execution_count": 56,
     "metadata": {},
     "output_type": "execute_result"
    }
   ],
   "source": [
    "np.array((svd_results['test_rmse'], \n",
    "co_clustering_results['test_rmse'], \n",
    "slope_one_results['test_rmse'],\n",
    "knn_basic_results['test_rmse'], \n",
    "knn_means_results['test_rmse'], \n",
    "knn_zscore_results['test_rmse']))"
   ]
  },
  {
   "cell_type": "markdown",
   "metadata": {},
   "source": [
    "# Объединим результаты всех моделей"
   ]
  },
  {
   "cell_type": "code",
   "execution_count": 57,
   "metadata": {
    "execution": {
     "iopub.execute_input": "2022-12-09T13:17:48.385909Z",
     "iopub.status.busy": "2022-12-09T13:17:48.385496Z",
     "iopub.status.idle": "2022-12-09T13:17:48.392602Z",
     "shell.execute_reply": "2022-12-09T13:17:48.391543Z",
     "shell.execute_reply.started": "2022-12-09T13:17:48.385873Z"
    }
   },
   "outputs": [],
   "source": [
    "results = np.array((svd_results['test_rmse'], \n",
    "                    co_clustering_results['test_rmse'], \n",
    "                    slope_one_results['test_rmse'],\n",
    "                    knn_basic_results['test_rmse'], \n",
    "                    knn_means_results['test_rmse'], \n",
    "                    knn_zscore_results['test_rmse']))\n",
    "\n",
    "result_df = pd.DataFrame(results, \n",
    "                         index=['SVD', 'CoClustering', 'SlopeOne', 'KNN_Basic', 'KNN_Means', 'KNN_ZScore'],\n",
    "                         columns=['RMSE_fold_1','RMSE_fold_2','RMSE_fold_3'])"
   ]
  },
  {
   "cell_type": "markdown",
   "metadata": {},
   "source": [
    "# Вычислим средний балл RMSE"
   ]
  },
  {
   "cell_type": "code",
   "execution_count": 58,
   "metadata": {
    "execution": {
     "iopub.execute_input": "2022-12-09T13:17:53.022321Z",
     "iopub.status.busy": "2022-12-09T13:17:53.021857Z",
     "iopub.status.idle": "2022-12-09T13:17:53.030519Z",
     "shell.execute_reply": "2022-12-09T13:17:53.029376Z",
     "shell.execute_reply.started": "2022-12-09T13:17:53.022277Z"
    }
   },
   "outputs": [],
   "source": [
    "result_df['Mean_RMSE'] = result_df[['RMSE_fold_1', 'RMSE_fold_2', 'RMSE_fold_3']].mean(axis=1)"
   ]
  },
  {
   "cell_type": "code",
   "execution_count": 59,
   "metadata": {
    "execution": {
     "iopub.execute_input": "2022-12-09T13:17:55.075229Z",
     "iopub.status.busy": "2022-12-09T13:17:55.074828Z",
     "iopub.status.idle": "2022-12-09T13:17:55.086980Z",
     "shell.execute_reply": "2022-12-09T13:17:55.086104Z",
     "shell.execute_reply.started": "2022-12-09T13:17:55.075201Z"
    }
   },
   "outputs": [
    {
     "data": {
      "text/html": [
       "<div>\n",
       "<style scoped>\n",
       "    .dataframe tbody tr th:only-of-type {\n",
       "        vertical-align: middle;\n",
       "    }\n",
       "\n",
       "    .dataframe tbody tr th {\n",
       "        vertical-align: top;\n",
       "    }\n",
       "\n",
       "    .dataframe thead th {\n",
       "        text-align: right;\n",
       "    }\n",
       "</style>\n",
       "<table border=\"1\" class=\"dataframe\">\n",
       "  <thead>\n",
       "    <tr style=\"text-align: right;\">\n",
       "      <th></th>\n",
       "      <th>RMSE_fold_1</th>\n",
       "      <th>RMSE_fold_2</th>\n",
       "      <th>RMSE_fold_3</th>\n",
       "      <th>Mean_RMSE</th>\n",
       "    </tr>\n",
       "  </thead>\n",
       "  <tbody>\n",
       "    <tr>\n",
       "      <th>SVD</th>\n",
       "      <td>0.653659</td>\n",
       "      <td>0.651043</td>\n",
       "      <td>0.682209</td>\n",
       "      <td>0.662304</td>\n",
       "    </tr>\n",
       "    <tr>\n",
       "      <th>KNN_ZScore</th>\n",
       "      <td>0.649187</td>\n",
       "      <td>0.687899</td>\n",
       "      <td>0.735738</td>\n",
       "      <td>0.690941</td>\n",
       "    </tr>\n",
       "    <tr>\n",
       "      <th>KNN_Means</th>\n",
       "      <td>0.690371</td>\n",
       "      <td>0.686439</td>\n",
       "      <td>0.713831</td>\n",
       "      <td>0.696880</td>\n",
       "    </tr>\n",
       "    <tr>\n",
       "      <th>CoClustering</th>\n",
       "      <td>0.720407</td>\n",
       "      <td>0.697596</td>\n",
       "      <td>0.676353</td>\n",
       "      <td>0.698119</td>\n",
       "    </tr>\n",
       "    <tr>\n",
       "      <th>SlopeOne</th>\n",
       "      <td>0.756347</td>\n",
       "      <td>0.777461</td>\n",
       "      <td>0.714787</td>\n",
       "      <td>0.749531</td>\n",
       "    </tr>\n",
       "    <tr>\n",
       "      <th>KNN_Basic</th>\n",
       "      <td>0.838419</td>\n",
       "      <td>0.837005</td>\n",
       "      <td>0.838408</td>\n",
       "      <td>0.837944</td>\n",
       "    </tr>\n",
       "  </tbody>\n",
       "</table>\n",
       "</div>"
      ],
      "text/plain": [
       "              RMSE_fold_1  RMSE_fold_2  RMSE_fold_3  Mean_RMSE\n",
       "SVD              0.653659     0.651043     0.682209   0.662304\n",
       "KNN_ZScore       0.649187     0.687899     0.735738   0.690941\n",
       "KNN_Means        0.690371     0.686439     0.713831   0.696880\n",
       "CoClustering     0.720407     0.697596     0.676353   0.698119\n",
       "SlopeOne         0.756347     0.777461     0.714787   0.749531\n",
       "KNN_Basic        0.838419     0.837005     0.838408   0.837944"
      ]
     },
     "execution_count": 59,
     "metadata": {},
     "output_type": "execute_result"
    }
   ],
   "source": [
    "result_df.sort_values(by='Mean_RMSE')"
   ]
  },
  {
   "cell_type": "markdown",
   "metadata": {},
   "source": [
    "**KNN_Basic работает лучше всех.**"
   ]
  },
  {
   "cell_type": "markdown",
   "metadata": {},
   "source": [
    "# Создание рекомендаций с использованием KNN_Basic"
   ]
  },
  {
   "cell_type": "code",
   "execution_count": 62,
   "metadata": {
    "execution": {
     "iopub.execute_input": "2022-12-09T13:20:41.633047Z",
     "iopub.status.busy": "2022-12-09T13:20:41.632651Z",
     "iopub.status.idle": "2022-12-09T13:20:41.647489Z",
     "shell.execute_reply": "2022-12-09T13:20:41.646254Z",
     "shell.execute_reply.started": "2022-12-09T13:20:41.633017Z"
    }
   },
   "outputs": [],
   "source": [
    "# 1. Получить идентификатор ресторана из названия ресторана\n",
    "def get_rest_id(rest_name, data):\n",
    "    '''Возвращает идентификатор ресторана (placeID) с учетом названия ресторана.'''\n",
    "\n",
    "\n",
    "    rest_names = list(data['name'].values)\n",
    "    \n",
    "    # Using difflib find the restaurants that are closest to the input and extract the corresponding placeID\n",
    "    \n",
    "    closest_names = difflib.get_close_matches(rest_name, rest_names)\n",
    "    rest_id = data[data['name'] == closest_names[0]]['placeID'].iloc[0]\n",
    "    \n",
    "    return rest_id\n",
    "\n",
    "# 2. Предсказать рейтинг этого ресторана для данного пользователя\n",
    "def predict_rating(user_id, rest_name, data, model=KNNBasic(k=50)):\n",
    "    \n",
    "    # извлечь идентификатор ресторана из названия ресторана\n",
    "    rest_id = get_rest_id(rest_name, data)\n",
    "    \n",
    "    # сделать предсказания\n",
    "    estimated_ratings = model.predict(uid = user_id, iid = rest_id)\n",
    "    \n",
    "    return estimated_ratings.est\n",
    "\n",
    "# 3. Генерация рекомендаций для данного пользователя\n",
    "\n",
    "'''\n",
    "При этом мы возьмем userID в качестве входных данных и выведем названия всех ресторанов, для которых данный пользователь, скорее всего,\n",
    "дать рейтинг выше определенного порогового рейтинга (в данном случае 1,5).\n",
    "'''\n",
    "\n",
    "\n",
    "def recommend_restaurants(user_id, data=data, model=KNNBasic(k=50), threshold=1.5):\n",
    "    \n",
    "    # сохраним в словаре рекомендуемые рестораны вместе с прогнозируемыми рейтингами, данными пользователем \n",
    "    recommended_restaurants = {}\n",
    "    \n",
    "# Найдем все уникальные названия ресторанов    \n",
    "    unique_rest_names = list(np.unique(data['name'].values))\n",
    "    \n",
    "# Перемешаем список названий ресторанов\n",
    "    random.shuffle(unique_rest_names)\n",
    "    \n",
    "# перебираем список и генерируем рейтинги (прогнозы) для каждого ресторана и возвращаем только те, у которых рейтинг > порога (1,5)\n",
    "    for rest_name in unique_rest_names:\n",
    "        \n",
    "\n",
    "        # сгенерируем прогнозы\n",
    "        rating = predict_rating(user_id=user_id, rest_name=rest_name, data=data, model=KNNBasic(k=50))\n",
    "        \n",
    "# проверим, если рейтинг > порога\n",
    "        if rating > threshold:\n",
    "            \n",
    "            recommended_restaurants[rest_name] = np.round(rating,2)\n",
    "    \n",
    "    print(\"Создание рекомендаций по ресторанам для идентификатора пользователя {} : \".format(user_id))    \n",
    "    restaurant_names = np.array(list(recommended_restaurants.keys())).reshape(-1,1)\n",
    "    restaurant_ratings = np.array(list(recommended_restaurants.values())).reshape(-1,1)\n",
    "    \n",
    "    results = np.concatenate((restaurant_names, restaurant_ratings), axis=1)\n",
    "    results_df = pd.DataFrame(results, columns=['Restaurants', 'Rating (0-2)']).sort_values(by='Rating (0-2)', ascending=False)\n",
    "    \n",
    "    return results_df.reset_index().drop('index', axis=1)"
   ]
  },
  {
   "cell_type": "code",
   "execution_count": 63,
   "metadata": {
    "execution": {
     "iopub.execute_input": "2022-12-09T13:20:43.920643Z",
     "iopub.status.busy": "2022-12-09T13:20:43.920199Z",
     "iopub.status.idle": "2022-12-09T13:20:45.200635Z",
     "shell.execute_reply": "2022-12-09T13:20:45.199584Z",
     "shell.execute_reply.started": "2022-12-09T13:20:43.920592Z"
    }
   },
   "outputs": [
    {
     "name": "stdout",
     "output_type": "stream",
     "text": [
      "Создание рекомендаций по ресторанам для идентификатора пользователя U1002 : \n"
     ]
    },
    {
     "data": {
      "text/html": [
       "<div>\n",
       "<style scoped>\n",
       "    .dataframe tbody tr th:only-of-type {\n",
       "        vertical-align: middle;\n",
       "    }\n",
       "\n",
       "    .dataframe tbody tr th {\n",
       "        vertical-align: top;\n",
       "    }\n",
       "\n",
       "    .dataframe thead th {\n",
       "        text-align: right;\n",
       "    }\n",
       "</style>\n",
       "<table border=\"1\" class=\"dataframe\">\n",
       "  <thead>\n",
       "    <tr style=\"text-align: right;\">\n",
       "      <th></th>\n",
       "      <th>Restaurants</th>\n",
       "      <th>Rating (0-2)</th>\n",
       "    </tr>\n",
       "  </thead>\n",
       "  <tbody>\n",
       "    <tr>\n",
       "      <th>0</th>\n",
       "      <td>Luna Cafe</td>\n",
       "      <td>1.8</td>\n",
       "    </tr>\n",
       "    <tr>\n",
       "      <th>1</th>\n",
       "      <td>crudalia</td>\n",
       "      <td>1.79</td>\n",
       "    </tr>\n",
       "    <tr>\n",
       "      <th>2</th>\n",
       "      <td>puesto de tacos</td>\n",
       "      <td>1.79</td>\n",
       "    </tr>\n",
       "    <tr>\n",
       "      <th>3</th>\n",
       "      <td>Restaurant Las Mananitas</td>\n",
       "      <td>1.78</td>\n",
       "    </tr>\n",
       "    <tr>\n",
       "      <th>4</th>\n",
       "      <td>Michiko Restaurant Japones</td>\n",
       "      <td>1.77</td>\n",
       "    </tr>\n",
       "    <tr>\n",
       "      <th>5</th>\n",
       "      <td>Kiku Cuernavaca</td>\n",
       "      <td>1.75</td>\n",
       "    </tr>\n",
       "    <tr>\n",
       "      <th>6</th>\n",
       "      <td>Cabana Huasteca</td>\n",
       "      <td>1.72</td>\n",
       "    </tr>\n",
       "    <tr>\n",
       "      <th>7</th>\n",
       "      <td>Sirlone</td>\n",
       "      <td>1.7</td>\n",
       "    </tr>\n",
       "    <tr>\n",
       "      <th>8</th>\n",
       "      <td>Restaurante la Parroquia Potosina</td>\n",
       "      <td>1.7</td>\n",
       "    </tr>\n",
       "    <tr>\n",
       "      <th>9</th>\n",
       "      <td>KFC</td>\n",
       "      <td>1.67</td>\n",
       "    </tr>\n",
       "    <tr>\n",
       "      <th>10</th>\n",
       "      <td>La Cantina Restaurante</td>\n",
       "      <td>1.66</td>\n",
       "    </tr>\n",
       "    <tr>\n",
       "      <th>11</th>\n",
       "      <td>shi ro ie</td>\n",
       "      <td>1.65</td>\n",
       "    </tr>\n",
       "    <tr>\n",
       "      <th>12</th>\n",
       "      <td>la perica hamburguesa</td>\n",
       "      <td>1.65</td>\n",
       "    </tr>\n",
       "    <tr>\n",
       "      <th>13</th>\n",
       "      <td>Arrachela Grill</td>\n",
       "      <td>1.64</td>\n",
       "    </tr>\n",
       "    <tr>\n",
       "      <th>14</th>\n",
       "      <td>El Rincon de San Francisco</td>\n",
       "      <td>1.64</td>\n",
       "    </tr>\n",
       "    <tr>\n",
       "      <th>15</th>\n",
       "      <td>La Estrella de Dimas</td>\n",
       "      <td>1.63</td>\n",
       "    </tr>\n",
       "    <tr>\n",
       "      <th>16</th>\n",
       "      <td>La Fontana Pizza Restaurante and Cafe</td>\n",
       "      <td>1.62</td>\n",
       "    </tr>\n",
       "    <tr>\n",
       "      <th>17</th>\n",
       "      <td>carnitas_mata</td>\n",
       "      <td>1.62</td>\n",
       "    </tr>\n",
       "    <tr>\n",
       "      <th>18</th>\n",
       "      <td>Mariscos El Pescador</td>\n",
       "      <td>1.61</td>\n",
       "    </tr>\n",
       "    <tr>\n",
       "      <th>19</th>\n",
       "      <td>Preambulo Wifi Zone Cafe</td>\n",
       "      <td>1.6</td>\n",
       "    </tr>\n",
       "    <tr>\n",
       "      <th>20</th>\n",
       "      <td>Restaurante y Pescaderia Tampico</td>\n",
       "      <td>1.59</td>\n",
       "    </tr>\n",
       "    <tr>\n",
       "      <th>21</th>\n",
       "      <td>El Oceano Dorado</td>\n",
       "      <td>1.58</td>\n",
       "    </tr>\n",
       "    <tr>\n",
       "      <th>22</th>\n",
       "      <td>Giovannis</td>\n",
       "      <td>1.57</td>\n",
       "    </tr>\n",
       "    <tr>\n",
       "      <th>23</th>\n",
       "      <td>Restaurante la Gran Via</td>\n",
       "      <td>1.56</td>\n",
       "    </tr>\n",
       "    <tr>\n",
       "      <th>24</th>\n",
       "      <td>La Posada del Virrey</td>\n",
       "      <td>1.56</td>\n",
       "    </tr>\n",
       "    <tr>\n",
       "      <th>25</th>\n",
       "      <td>cafe punta del cielo</td>\n",
       "      <td>1.56</td>\n",
       "    </tr>\n",
       "    <tr>\n",
       "      <th>26</th>\n",
       "      <td>tortas hawai</td>\n",
       "      <td>1.55</td>\n",
       "    </tr>\n",
       "    <tr>\n",
       "      <th>27</th>\n",
       "      <td>little pizza Emilio Portes Gil</td>\n",
       "      <td>1.55</td>\n",
       "    </tr>\n",
       "    <tr>\n",
       "      <th>28</th>\n",
       "      <td>Log Yin</td>\n",
       "      <td>1.54</td>\n",
       "    </tr>\n",
       "    <tr>\n",
       "      <th>29</th>\n",
       "      <td>TACOS CORRECAMINOS</td>\n",
       "      <td>1.53</td>\n",
       "    </tr>\n",
       "    <tr>\n",
       "      <th>30</th>\n",
       "      <td>Sanborns Casa Piedra</td>\n",
       "      <td>1.53</td>\n",
       "    </tr>\n",
       "    <tr>\n",
       "      <th>31</th>\n",
       "      <td>Restaurante Versalles</td>\n",
       "      <td>1.53</td>\n",
       "    </tr>\n",
       "    <tr>\n",
       "      <th>32</th>\n",
       "      <td>Los Vikingos</td>\n",
       "      <td>1.52</td>\n",
       "    </tr>\n",
       "    <tr>\n",
       "      <th>33</th>\n",
       "      <td>Rincon del Bife</td>\n",
       "      <td>1.52</td>\n",
       "    </tr>\n",
       "    <tr>\n",
       "      <th>34</th>\n",
       "      <td>Dominos Pizza</td>\n",
       "      <td>1.51</td>\n",
       "    </tr>\n",
       "    <tr>\n",
       "      <th>35</th>\n",
       "      <td>Chilis Cuernavaca</td>\n",
       "      <td>1.51</td>\n",
       "    </tr>\n",
       "    <tr>\n",
       "      <th>36</th>\n",
       "      <td>Restaurant Bar Coty y Pablo</td>\n",
       "      <td>1.51</td>\n",
       "    </tr>\n",
       "    <tr>\n",
       "      <th>37</th>\n",
       "      <td>Restaurante Pueblo Bonito</td>\n",
       "      <td>1.5</td>\n",
       "    </tr>\n",
       "  </tbody>\n",
       "</table>\n",
       "</div>"
      ],
      "text/plain": [
       "                              Restaurants Rating (0-2)\n",
       "0                               Luna Cafe          1.8\n",
       "1                                crudalia         1.79\n",
       "2                         puesto de tacos         1.79\n",
       "3                Restaurant Las Mananitas         1.78\n",
       "4              Michiko Restaurant Japones         1.77\n",
       "5                         Kiku Cuernavaca         1.75\n",
       "6                         Cabana Huasteca         1.72\n",
       "7                                 Sirlone          1.7\n",
       "8       Restaurante la Parroquia Potosina          1.7\n",
       "9                                     KFC         1.67\n",
       "10                 La Cantina Restaurante         1.66\n",
       "11                              shi ro ie         1.65\n",
       "12                  la perica hamburguesa         1.65\n",
       "13                        Arrachela Grill         1.64\n",
       "14             El Rincon de San Francisco         1.64\n",
       "15                   La Estrella de Dimas         1.63\n",
       "16  La Fontana Pizza Restaurante and Cafe         1.62\n",
       "17                          carnitas_mata         1.62\n",
       "18                   Mariscos El Pescador         1.61\n",
       "19               Preambulo Wifi Zone Cafe          1.6\n",
       "20       Restaurante y Pescaderia Tampico         1.59\n",
       "21                       El Oceano Dorado         1.58\n",
       "22                              Giovannis         1.57\n",
       "23                Restaurante la Gran Via         1.56\n",
       "24                   La Posada del Virrey         1.56\n",
       "25                   cafe punta del cielo         1.56\n",
       "26                           tortas hawai         1.55\n",
       "27         little pizza Emilio Portes Gil         1.55\n",
       "28                                Log Yin         1.54\n",
       "29                     TACOS CORRECAMINOS         1.53\n",
       "30                   Sanborns Casa Piedra         1.53\n",
       "31                  Restaurante Versalles         1.53\n",
       "32                           Los Vikingos         1.52\n",
       "33                        Rincon del Bife         1.52\n",
       "34                          Dominos Pizza         1.51\n",
       "35                      Chilis Cuernavaca         1.51\n",
       "36            Restaurant Bar Coty y Pablo         1.51\n",
       "37              Restaurante Pueblo Bonito          1.5"
      ]
     },
     "execution_count": 63,
     "metadata": {},
     "output_type": "execute_result"
    }
   ],
   "source": [
    "# Случайным образом выбрать идентификатор пользователя, используя np.random.choice\n",
    "random_user_id = np.random.choice(list(np.unique(data['userID'].values)))\n",
    "\n",
    "# Создание рекомендаций для идентификатора пользователя\n",
    "recommend_restaurants(user_id = random_user_id)"
   ]
  }
 ],
 "metadata": {
  "kernelspec": {
   "display_name": "Python 3 (ipykernel)",
   "language": "python",
   "name": "python3"
  },
  "language_info": {
   "codemirror_mode": {
    "name": "ipython",
    "version": 3
   },
   "file_extension": ".py",
   "mimetype": "text/x-python",
   "name": "python",
   "nbconvert_exporter": "python",
   "pygments_lexer": "ipython3",
   "version": "3.9.13"
  }
 },
 "nbformat": 4,
 "nbformat_minor": 4
}
